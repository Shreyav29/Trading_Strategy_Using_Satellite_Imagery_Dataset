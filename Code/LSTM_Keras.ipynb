{
 "cells": [
  {
   "cell_type": "code",
   "execution_count": 1,
   "metadata": {},
   "outputs": [],
   "source": [
    "import pandas as pd\n",
    "import numpy as np \n",
    "import yfinance as yf\n",
    "import matplotlib.pyplot as plt\n",
    "import datetime "
   ]
  },
  {
   "cell_type": "code",
   "execution_count": null,
   "metadata": {},
   "outputs": [],
   "source": []
  },
  {
   "cell_type": "code",
   "execution_count": 2,
   "metadata": {},
   "outputs": [
    {
     "name": "stderr",
     "output_type": "stream",
     "text": [
      "/Users/shreyavontela/anaconda3/lib/python3.7/site-packages/ta/trend.py:768: RuntimeWarning: invalid value encountered in double_scalars\n",
      "  dip[i] = 100 * (self._dip[i] / self._trs[i])\n",
      "/Users/shreyavontela/anaconda3/lib/python3.7/site-packages/ta/trend.py:772: RuntimeWarning: invalid value encountered in double_scalars\n",
      "  din[i] = 100 * (self._din[i] / self._trs[i])\n"
     ]
    },
    {
     "data": {
      "text/html": [
       "<div>\n",
       "<style scoped>\n",
       "    .dataframe tbody tr th:only-of-type {\n",
       "        vertical-align: middle;\n",
       "    }\n",
       "\n",
       "    .dataframe tbody tr th {\n",
       "        vertical-align: top;\n",
       "    }\n",
       "\n",
       "    .dataframe thead th {\n",
       "        text-align: right;\n",
       "    }\n",
       "</style>\n",
       "<table border=\"1\" class=\"dataframe\">\n",
       "  <thead>\n",
       "    <tr style=\"text-align: right;\">\n",
       "      <th></th>\n",
       "      <th>trend_macd</th>\n",
       "      <th>momentum_rsi</th>\n",
       "      <th>Volume</th>\n",
       "      <th>Adj Close</th>\n",
       "      <th>total_foot</th>\n",
       "    </tr>\n",
       "  </thead>\n",
       "  <tbody>\n",
       "    <tr>\n",
       "      <th>2018-03-05</th>\n",
       "      <td>0.000000</td>\n",
       "      <td>100.000000</td>\n",
       "      <td>1003700.0</td>\n",
       "      <td>34.671322</td>\n",
       "      <td>3619</td>\n",
       "    </tr>\n",
       "    <tr>\n",
       "      <th>2018-03-06</th>\n",
       "      <td>0.028718</td>\n",
       "      <td>100.000000</td>\n",
       "      <td>1166400.0</td>\n",
       "      <td>35.025013</td>\n",
       "      <td>4385</td>\n",
       "    </tr>\n",
       "    <tr>\n",
       "      <th>2018-03-07</th>\n",
       "      <td>0.062856</td>\n",
       "      <td>100.000000</td>\n",
       "      <td>1097800.0</td>\n",
       "      <td>35.172375</td>\n",
       "      <td>4354</td>\n",
       "    </tr>\n",
       "    <tr>\n",
       "      <th>2018-03-08</th>\n",
       "      <td>0.081707</td>\n",
       "      <td>83.323807</td>\n",
       "      <td>749100.0</td>\n",
       "      <td>35.083961</td>\n",
       "      <td>4749</td>\n",
       "    </tr>\n",
       "    <tr>\n",
       "      <th>2018-03-09</th>\n",
       "      <td>0.070816</td>\n",
       "      <td>51.479538</td>\n",
       "      <td>1789200.0</td>\n",
       "      <td>34.779392</td>\n",
       "      <td>5778</td>\n",
       "    </tr>\n",
       "    <tr>\n",
       "      <th>2018-03-10</th>\n",
       "      <td>NaN</td>\n",
       "      <td>NaN</td>\n",
       "      <td>NaN</td>\n",
       "      <td>NaN</td>\n",
       "      <td>5602</td>\n",
       "    </tr>\n",
       "    <tr>\n",
       "      <th>2018-03-11</th>\n",
       "      <td>NaN</td>\n",
       "      <td>NaN</td>\n",
       "      <td>NaN</td>\n",
       "      <td>NaN</td>\n",
       "      <td>5070</td>\n",
       "    </tr>\n",
       "    <tr>\n",
       "      <th>2018-03-12</th>\n",
       "      <td>-0.018297</td>\n",
       "      <td>22.116384</td>\n",
       "      <td>2354100.0</td>\n",
       "      <td>33.796925</td>\n",
       "      <td>4283</td>\n",
       "    </tr>\n",
       "    <tr>\n",
       "      <th>2018-03-13</th>\n",
       "      <td>-0.170868</td>\n",
       "      <td>13.495214</td>\n",
       "      <td>2500100.0</td>\n",
       "      <td>32.775154</td>\n",
       "      <td>4286</td>\n",
       "    </tr>\n",
       "    <tr>\n",
       "      <th>2018-03-14</th>\n",
       "      <td>-0.248571</td>\n",
       "      <td>28.022092</td>\n",
       "      <td>1757100.0</td>\n",
       "      <td>33.266396</td>\n",
       "      <td>4563</td>\n",
       "    </tr>\n",
       "  </tbody>\n",
       "</table>\n",
       "</div>"
      ],
      "text/plain": [
       "            trend_macd  momentum_rsi     Volume  Adj Close  total_foot\n",
       "2018-03-05    0.000000    100.000000  1003700.0  34.671322        3619\n",
       "2018-03-06    0.028718    100.000000  1166400.0  35.025013        4385\n",
       "2018-03-07    0.062856    100.000000  1097800.0  35.172375        4354\n",
       "2018-03-08    0.081707     83.323807   749100.0  35.083961        4749\n",
       "2018-03-09    0.070816     51.479538  1789200.0  34.779392        5778\n",
       "2018-03-10         NaN           NaN        NaN        NaN        5602\n",
       "2018-03-11         NaN           NaN        NaN        NaN        5070\n",
       "2018-03-12   -0.018297     22.116384  2354100.0  33.796925        4283\n",
       "2018-03-13   -0.170868     13.495214  2500100.0  32.775154        4286\n",
       "2018-03-14   -0.248571     28.022092  1757100.0  33.266396        4563"
      ]
     },
     "execution_count": 2,
     "metadata": {},
     "output_type": "execute_result"
    }
   ],
   "source": [
    "#Get the data of the stock\n",
    "start_date = '2018-03-05'\n",
    "end_date = '2020-08-16'\n",
    "\n",
    "boyd = yf.download('BYD', \n",
    "                      start=start_date, \n",
    "                      end=end_date, \n",
    "                      progress=False)\n",
    "\n",
    "from ta import add_all_ta_features\n",
    "\n",
    "a = add_all_ta_features(boyd, open=\"Open\", high=\"High\", low=\"Low\", close=\"Close\", volume=\"Volume\", fillna=True)\n",
    "boyd = boyd[[\"trend_macd\", 'momentum_rsi',\"Volume\" , \"Adj Close\"]]\n",
    "\n",
    "footfall = pd.read_csv(\"casino.csv\", names = ['Date', 'Casino1','Casino2','Casino3','Casino4','Casino5','Casino6','Casino7','Casino8','Casino9']) \n",
    "footfall = footfall.iloc[5:]\n",
    "\n",
    "Date = footfall[\"Date\"]\n",
    "footfall = footfall.drop([\"Date\"], axis=1)\n",
    "footfall.index = pd.date_range('20180305', '20200816')\n",
    "footfall = footfall.astype('int')\n",
    "footfall[\"total_foot\"] = footfall.sum(axis = 1)\n",
    "footfall = footfall.drop(['Casino1','Casino2','Casino3','Casino4','Casino5','Casino6','Casino7','Casino8','Casino9'], axis=1)\n",
    "\n",
    "boyd = boyd.merge(footfall, left_index=True, right_index=True, how='right')\n",
    "\n",
    "#casino_features = ['Casino1','Casino2','Casino3','Casino4','Casino5','Casino6','Casino7','Casino8','Casino9']\n",
    "casino_features = [\"total_foot\"]\n",
    "tech_features = [\"trend_macd\", 'momentum_rsi',\"Volume\"]\n",
    "\n",
    "boyd.head(10)"
   ]
  },
  {
   "cell_type": "code",
   "execution_count": 3,
   "metadata": {},
   "outputs": [],
   "source": [
    "#Doing holidays adjustment\n",
    "\n",
    "y = boyd[\"Adj Close\"][7:]\n",
    "Dates = boyd.index[7:]\n",
    "n_weeks = 0 \n",
    "for i in range(0,len(Dates),7):\n",
    "    week = 7 \n",
    "    x_date = Dates[i] -  datetime.timedelta(days=week)\n",
    "    new_df = boyd.loc[x_date : x_date + datetime.timedelta(days=week-3)]\n",
    "    new_df = new_df.fillna(method='ffill')\n",
    "    new_df = new_df.fillna(method='bfill')\n",
    "    if sum(new_df.isna().sum()) != 0:\n",
    "        print(\"Nan value not getting filled\")\n",
    "        print(i)\n",
    "    boyd.update(new_df)\n",
    "    n_weeks = n_weeks + 1 "
   ]
  },
  {
   "cell_type": "code",
   "execution_count": 4,
   "metadata": {},
   "outputs": [],
   "source": [
    "boyd[\"Close\"] = boyd[\"Adj Close\"]\n",
    "boyd = boyd.drop(['Adj Close'], axis=1)\n",
    "boyd = boyd.interpolate(method='linear', limit_direction='forward', axis=0)\n",
    "boyd['daily_return'] = boyd['Close'].pct_change().fillna(0)\n",
    "boyd = boyd.drop(['Close'], axis=1)"
   ]
  },
  {
   "cell_type": "markdown",
   "metadata": {},
   "source": [
    "## Train test split"
   ]
  },
  {
   "cell_type": "code",
   "execution_count": 5,
   "metadata": {},
   "outputs": [
    {
     "name": "stdout",
     "output_type": "stream",
     "text": [
      "(806, 5) (90, 5)\n"
     ]
    }
   ],
   "source": [
    "val = boyd.values\n",
    "train_sample = int(len(boyd) * 0.9)\n",
    "train = val[:train_sample, :]\n",
    "test = val[train_sample : , :]\n",
    "\n",
    "print(train.shape, test.shape)\n",
    "train = pd.DataFrame(train)\n",
    "test = pd.DataFrame(test)\n",
    "\n"
   ]
  },
  {
   "cell_type": "markdown",
   "metadata": {},
   "source": [
    "## Standardization\n",
    "\n"
   ]
  },
  {
   "cell_type": "code",
   "execution_count": 6,
   "metadata": {},
   "outputs": [],
   "source": [
    "#Standardizing the data \n",
    "X_train = train.loc[:,:3]\n",
    "y_train = train.loc[:,4:]\n",
    "X_test = test.loc[:,:3]\n",
    "y_test = test.loc[:,4:]\n",
    "\n",
    "\n",
    "\n",
    "mean = np.mean(X_train)\n",
    "std = np.std(X_train)\n",
    "X_train = (X_train - mean)/std\n",
    "X_test = (X_test - mean)/std\n",
    "\n",
    "mean_y = np.mean(y_train)\n",
    "std_y = np.std(y_train)\n",
    "y_train = (y_train - mean_y)/std_y\n",
    "y_test = (y_test - mean_y)/std_y\n",
    "\n"
   ]
  },
  {
   "cell_type": "code",
   "execution_count": 7,
   "metadata": {},
   "outputs": [
    {
     "data": {
      "text/plain": [
       "array([[ 0.23644049,  3.89179631, -0.45496818, -0.58742331,  0.00948621],\n",
       "       [ 0.26444161,  3.89179631, -0.25930684, -0.05143174,  0.32319787],\n",
       "       [ 0.29772766,  3.89179631, -0.34180449, -0.0731233 ,  0.13887105],\n",
       "       ...,\n",
       "       [ 0.36892821,  0.23431187,  2.04108691, -2.89022784,  1.15485657],\n",
       "       [ 0.40954335,  0.43673215,  2.23285988, -2.92731342,  1.11372895],\n",
       "       [ 0.45015849,  0.63915242,  2.42463286, -2.88742893,  1.07545255]])"
      ]
     },
     "execution_count": 7,
     "metadata": {},
     "output_type": "execute_result"
    }
   ],
   "source": [
    "training_set_scaled = np.hstack((np.array(X_train), np.array(y_train)))\n",
    "test_set_scaled = np.hstack((np.array(X_test), np.array(y_test)))\n",
    "training_set_scaled"
   ]
  },
  {
   "cell_type": "markdown",
   "metadata": {},
   "source": [
    "## Creating train data"
   ]
  },
  {
   "cell_type": "code",
   "execution_count": 8,
   "metadata": {},
   "outputs": [],
   "source": [
    "look_back = 7\n",
    "X_train = []\n",
    "y_train = []\n",
    "for i in range(look_back, len(training_set_scaled)):\n",
    "    X_train.append(training_set_scaled[i-look_back:i,:-1].reshape(1,look_back,-1))\n",
    "    y_train.append(training_set_scaled[i,-1])\n",
    "    \n",
    "X_train = np.concatenate(X_train, axis = 0 )\n",
    "y_train = np.asarray(y_train)\n",
    "\n",
    "\n",
    "    \n",
    "X_test = []\n",
    "y_test = []\n",
    "for i in range(look_back, len(test_set_scaled)):\n",
    "    X_test.append(test_set_scaled[i-look_back:i,:-1].reshape(1,look_back,-1))\n",
    "    y_test.append(test_set_scaled[i,-1])\n",
    "    \n",
    "X_test = np.concatenate(X_test, axis = 0 )\n",
    "y_test = np.array(y_test)"
   ]
  },
  {
   "cell_type": "code",
   "execution_count": 9,
   "metadata": {},
   "outputs": [
    {
     "data": {
      "text/plain": [
       "(799, 7, 4)"
      ]
     },
     "execution_count": 9,
     "metadata": {},
     "output_type": "execute_result"
    }
   ],
   "source": [
    "X_train.shape"
   ]
  },
  {
   "cell_type": "code",
   "execution_count": 10,
   "metadata": {},
   "outputs": [
    {
     "data": {
      "text/plain": [
       "(799,)"
      ]
     },
     "execution_count": 10,
     "metadata": {},
     "output_type": "execute_result"
    }
   ],
   "source": [
    "y_train.shape"
   ]
  },
  {
   "cell_type": "markdown",
   "metadata": {},
   "source": [
    "## Model Building \n",
    "\n",
    "The three dimensions of this input are:\n",
    "\n",
    "Samples. One sequence is one sample. A batch is comprised of one or more samples.\n",
    "Time Steps. One time step is one point of observation in the sample.\n",
    "Features. One feature is one observation at a time step.\n",
    "\n",
    "- (1,7,4)"
   ]
  },
  {
   "cell_type": "code",
   "execution_count": 11,
   "metadata": {},
   "outputs": [],
   "source": [
    "from keras.models import Sequential\n",
    "from keras.layers import Dense\n",
    "from keras.layers import LSTM , SimpleRNN, GRU\n",
    "from keras.layers import Dropout\n",
    "from keras.callbacks import EarlyStopping, ModelCheckpoint, ReduceLROnPlateau\n",
    "\n",
    "from tensorflow import keras"
   ]
  },
  {
   "cell_type": "code",
   "execution_count": 12,
   "metadata": {},
   "outputs": [
    {
     "name": "stdout",
     "output_type": "stream",
     "text": [
      "Test data Root Mean Squared Error is 1.4358893822602472\n",
      "Train data Root Mean Squared Error is 0.9504790534123367\n"
     ]
    }
   ],
   "source": [
    "regressor = Sequential()\n",
    "\n",
    "regressor.add(LSTM(units = 100, return_sequences = True, input_shape = (7, 4)))\n",
    "regressor.add(Dropout(0.2))\n",
    "\n",
    "regressor.add(LSTM(units = 75, return_sequences = True))\n",
    "regressor.add(Dropout(0.2))\n",
    "\n",
    "regressor.add(LSTM(units = 50, return_sequences = True))\n",
    "regressor.add(Dropout(0.2))\n",
    "\n",
    "regressor.add(LSTM(units = 60))\n",
    "regressor.add(Dropout(0.2))\n",
    "\n",
    "regressor.add(Dense(units = 1))\n",
    "\n",
    "regressor.compile(optimizer = 'adam', loss = 'mean_squared_error')\n",
    "\n",
    "regressor.fit(X_train, y_train, epochs = 100, batch_size = 32, verbose = False )\n",
    "\n",
    "y_pred  = regressor.predict(X_test)\n",
    "\n",
    "\n",
    "from sklearn.metrics import mean_squared_error\n",
    "MSE = np.sqrt(mean_squared_error(y_test, y_pred))\n",
    "print('Test data Root Mean Squared Error is {}'.format(MSE))\n",
    "\n",
    "MSE = np.sqrt(mean_squared_error(y_train, regressor.predict(X_train)))\n",
    "print('Train data Root Mean Squared Error is {}'.format(MSE))"
   ]
  },
  {
   "cell_type": "code",
   "execution_count": 13,
   "metadata": {},
   "outputs": [
    {
     "name": "stdout",
     "output_type": "stream",
     "text": [
      "Test data Root Mean Squared Error is 1.4525604074297878\n",
      "Train data Root Mean Squared Error is 0.58624507596611\n"
     ]
    }
   ],
   "source": [
    "regressor = Sequential()\n",
    "\n",
    "#earlyStopping = EarlyStopping(monitor='mse', patience= 50, verbose=0, mode='min')\n",
    "\n",
    "regressor.add(LSTM(units = 100, return_sequences = True, input_shape = (7, 4)))\n",
    "regressor.add(Dropout(0.2))\n",
    "\n",
    "regressor.add(LSTM(units = 100))\n",
    "regressor.add(Dropout(0.2))\n",
    "\n",
    "regressor.add(Dense(units = 1))\n",
    "\n",
    "regressor.compile(optimizer = 'adam', loss = 'mean_squared_error')\n",
    "\n",
    "regressor.fit(X_train, y_train, epochs = 100, batch_size = 32, verbose = False)\n",
    "\n",
    "y_pred  = regressor.predict(X_test)\n",
    "\n",
    "from sklearn.metrics import mean_squared_error\n",
    "MSE = np.sqrt(mean_squared_error(y_test, y_pred))\n",
    "print('Test data Root Mean Squared Error is {}'.format(MSE))\n",
    "\n",
    "MSE = np.sqrt(mean_squared_error(y_train, regressor.predict(X_train)))\n",
    "print('Train data Root Mean Squared Error is {}'.format(MSE))"
   ]
  },
  {
   "cell_type": "code",
   "execution_count": 19,
   "metadata": {},
   "outputs": [
    {
     "name": "stdout",
     "output_type": "stream",
     "text": [
      "Test data Root Mean Squared Error is 1.3549994466375783\n",
      "Train data Root Mean Squared Error is 0.7505688418009424\n"
     ]
    }
   ],
   "source": [
    "regressor = Sequential()\n",
    "\n",
    "#earlyStopping = EarlyStopping(monitor='mse', patience= 50, verbose=0, mode='min')\n",
    "\n",
    "regressor.add(LSTM(units = 100, return_sequences = True, input_shape = (7, 4)))\n",
    "regressor.add(Dropout(0.3))\n",
    "\n",
    "regressor.add(LSTM(units = 100))\n",
    "regressor.add(Dropout(0.3))\n",
    "\n",
    "regressor.add(Dense(units = 1))\n",
    "\n",
    "regressor.compile(optimizer = 'adam', loss = 'mean_squared_error')\n",
    "\n",
    "regressor.fit(X_train, y_train, epochs = 100, batch_size = 32, verbose = False)\n",
    "\n",
    "y_pred  = regressor.predict(X_test)\n",
    "\n",
    "from sklearn.metrics import mean_squared_error\n",
    "MSE = np.sqrt(mean_squared_error(y_test, y_pred))\n",
    "print('Test data Root Mean Squared Error is {}'.format(MSE))\n",
    "\n",
    "MSE = np.sqrt(mean_squared_error(y_train, regressor.predict(X_train)))\n",
    "print('Train data Root Mean Squared Error is {}'.format(MSE))"
   ]
  },
  {
   "cell_type": "code",
   "execution_count": 20,
   "metadata": {},
   "outputs": [
    {
     "name": "stdout",
     "output_type": "stream",
     "text": [
      "Test data Root Mean Squared Error is 1.4029327586545317\n",
      "Train data Root Mean Squared Error is 1.1075123738669188\n"
     ]
    }
   ],
   "source": [
    "regressor = Sequential()\n",
    "\n",
    "regressor.add(LSTM(units = 100, return_sequences = True, input_shape = (7, 4)))\n",
    "regressor.add(Dropout(0.3))\n",
    "\n",
    "regressor.add(LSTM(units = 100))\n",
    "regressor.add(Dropout(0.3))\n",
    "\n",
    "regressor.add(Dense(units = 1))\n",
    "\n",
    "opt = keras.optimizers.Adam(learning_rate=0.15)\n",
    "regressor.compile(optimizer = opt, loss = 'mean_squared_error')\n",
    "\n",
    "regressor.fit(X_train, y_train, epochs = 100, batch_size = 32, verbose = False)\n",
    "\n",
    "y_pred  = regressor.predict(X_test)\n",
    "\n",
    "from sklearn.metrics import mean_squared_error\n",
    "MSE = np.sqrt(mean_squared_error(y_test, y_pred))\n",
    "print('Test data Root Mean Squared Error is {}'.format(MSE))\n",
    "\n",
    "MSE = np.sqrt(mean_squared_error(y_train, regressor.predict(X_train)))\n",
    "print('Train data Root Mean Squared Error is {}'.format(MSE))"
   ]
  },
  {
   "cell_type": "code",
   "execution_count": 21,
   "metadata": {},
   "outputs": [
    {
     "name": "stdout",
     "output_type": "stream",
     "text": [
      "Test data Root Mean Squared Error is 1.399650807112742\n",
      "Train data Root Mean Squared Error is 1.2640447888627213\n"
     ]
    }
   ],
   "source": [
    "regressor = Sequential()\n",
    "\n",
    "regressor.add(GRU(100, return_sequences = True, input_shape = (7, 4)))\n",
    "regressor.add(Dropout(0.3))\n",
    "\n",
    "regressor.add(GRU(100))\n",
    "regressor.add(Dropout(0.3))\n",
    "\n",
    "regressor.add(Dense(units = 1))\n",
    "\n",
    "opt = keras.optimizers.Adam(learning_rate=0.18)\n",
    "regressor.compile(optimizer = opt, loss = 'mean_squared_error')\n",
    "\n",
    "regressor.fit(X_train, y_train, epochs = 100, batch_size = 32, verbose = False)\n",
    "\n",
    "y_pred  = regressor.predict(X_test)\n",
    "\n",
    "from sklearn.metrics import mean_squared_error\n",
    "MSE = np.sqrt(mean_squared_error(y_test, y_pred))\n",
    "print('Test data Root Mean Squared Error is {}'.format(MSE))\n",
    "\n",
    "MSE = np.sqrt(mean_squared_error(y_train, regressor.predict(X_train)))\n",
    "print('Train data Root Mean Squared Error is {}'.format(MSE))"
   ]
  },
  {
   "cell_type": "code",
   "execution_count": 16,
   "metadata": {},
   "outputs": [
    {
     "data": {
      "text/plain": [
       "1.127844"
      ]
     },
     "execution_count": 16,
     "metadata": {},
     "output_type": "execute_result"
    }
   ],
   "source": [
    "1.062 * 1.062"
   ]
  },
  {
   "cell_type": "code",
   "execution_count": 14,
   "metadata": {
    "scrolled": true
   },
   "outputs": [
    {
     "name": "stdout",
     "output_type": "stream",
     "text": [
      "Test data Mean Squared Error is 1.0621115781147623\n",
      "Train data Root Mean Squared Error is 1.0102869508387127\n"
     ]
    }
   ],
   "source": [
    "regressor = Sequential()\n",
    "\n",
    "regressor.add(GRU(100, return_sequences = True, input_shape = (7, 4)))\n",
    "regressor.add(Dropout(0.3))\n",
    "\n",
    "regressor.add(GRU(100))\n",
    "regressor.add(Dropout(0.3))\n",
    "\n",
    "regressor.add(Dense(units = 1))\n",
    "\n",
    "opt = keras.optimizers.Adam(learning_rate=0.18)\n",
    "regressor.compile(optimizer = opt, loss = 'mean_squared_error')\n",
    "\n",
    "regressor.fit(X_train, y_train, epochs = 600, batch_size = 64, verbose = False)\n",
    "\n",
    "y_pred  = regressor.predict(X_test)\n",
    "\n",
    "from sklearn.metrics import mean_squared_error\n",
    "MSE = np.sqrt(mean_squared_error(y_test, y_pred))\n",
    "print('Test data Mean Squared Error is {}'.format(MSE))\n",
    "\n",
    "MSE = np.sqrt(mean_squared_error(y_train, regressor.predict(X_train)))\n",
    "print('Train data Root Mean Squared Error is {}'.format(MSE))"
   ]
  },
  {
   "cell_type": "code",
   "execution_count": 20,
   "metadata": {
    "collapsed": true
   },
   "outputs": [
    {
     "data": {
      "text/plain": [
       "array([[0.11170176],\n",
       "       [0.11170176],\n",
       "       [0.11170176],\n",
       "       [0.11170176],\n",
       "       [0.11170176],\n",
       "       [0.11170176],\n",
       "       [0.11170176],\n",
       "       [0.11170176],\n",
       "       [0.11170176],\n",
       "       [0.11170176],\n",
       "       [0.11170176],\n",
       "       [0.11170176],\n",
       "       [0.11170176],\n",
       "       [0.11170176],\n",
       "       [0.11170176],\n",
       "       [0.11170176],\n",
       "       [0.11170176],\n",
       "       [0.11170176],\n",
       "       [0.11170176],\n",
       "       [0.11170176],\n",
       "       [0.11170176],\n",
       "       [0.11170176],\n",
       "       [0.11170176],\n",
       "       [0.11170176],\n",
       "       [0.11170176],\n",
       "       [0.11170176],\n",
       "       [0.11170176],\n",
       "       [0.11170176],\n",
       "       [0.11170176],\n",
       "       [0.11170176],\n",
       "       [0.11170176],\n",
       "       [0.11170176],\n",
       "       [0.11170176],\n",
       "       [0.11170176],\n",
       "       [0.11170176],\n",
       "       [0.11170176],\n",
       "       [0.11170176],\n",
       "       [0.11170176],\n",
       "       [0.11170176],\n",
       "       [0.11170176],\n",
       "       [0.11170176],\n",
       "       [0.11170176],\n",
       "       [0.11170176],\n",
       "       [0.11170176],\n",
       "       [0.11170176],\n",
       "       [0.11170176],\n",
       "       [0.11170176],\n",
       "       [0.11170176],\n",
       "       [0.11170176],\n",
       "       [0.11170176],\n",
       "       [0.11170176],\n",
       "       [0.11170176],\n",
       "       [0.11170176],\n",
       "       [0.11170176],\n",
       "       [0.11170176],\n",
       "       [0.11170176],\n",
       "       [0.11170176],\n",
       "       [0.11170176],\n",
       "       [0.11170176],\n",
       "       [0.11170176],\n",
       "       [0.11170176],\n",
       "       [0.11170176],\n",
       "       [0.11170176],\n",
       "       [0.11170176],\n",
       "       [0.11170176],\n",
       "       [0.11170176],\n",
       "       [0.11170176],\n",
       "       [0.11170176],\n",
       "       [0.11170176],\n",
       "       [0.11170176],\n",
       "       [0.11170176],\n",
       "       [0.11170176],\n",
       "       [0.11170176],\n",
       "       [0.11170176],\n",
       "       [0.11170176],\n",
       "       [0.11170176],\n",
       "       [0.11170176],\n",
       "       [0.11170176],\n",
       "       [0.11170176],\n",
       "       [0.11170176],\n",
       "       [0.11170176],\n",
       "       [0.11170176],\n",
       "       [0.11170176]], dtype=float32)"
      ]
     },
     "execution_count": 20,
     "metadata": {},
     "output_type": "execute_result"
    }
   ],
   "source": [
    "y_pred"
   ]
  },
  {
   "cell_type": "code",
   "execution_count": 21,
   "metadata": {},
   "outputs": [
    {
     "data": {
      "text/plain": [
       "array([[[ 0.60852176,  0.87871593,  4.72783265, -2.84194662],\n",
       "        [ 0.82091447,  1.18308426,  3.24215333, -2.83984743],\n",
       "        [ 0.97521371,  1.15154881,  1.35697372, -2.84264634],\n",
       "        ...,\n",
       "        [ 1.12388912,  1.17558866,  1.15241321, -2.88323056],\n",
       "        [ 1.16631633,  1.23789524,  1.7843741 , -2.94760553],\n",
       "        [ 1.20874355,  1.30020182,  2.41633499, -2.91751723]],\n",
       "\n",
       "       [[ 0.82091447,  1.18308426,  3.24215333, -2.83984743],\n",
       "        [ 0.97521371,  1.15154881,  1.35697372, -2.84264634],\n",
       "        [ 1.0814619 ,  1.11328209,  0.52045232, -2.83285015],\n",
       "        ...,\n",
       "        [ 1.16631633,  1.23789524,  1.7843741 , -2.94760553],\n",
       "        [ 1.20874355,  1.30020182,  2.41633499, -2.91751723],\n",
       "        [ 1.20874355,  1.30020182,  2.41633499, -2.82865179]],\n",
       "\n",
       "       [[ 0.97521371,  1.15154881,  1.35697372, -2.84264634],\n",
       "        [ 1.0814619 ,  1.11328209,  0.52045232, -2.83285015],\n",
       "        [ 1.12388912,  1.17558866,  1.15241321, -2.88323056],\n",
       "        ...,\n",
       "        [ 1.20874355,  1.30020182,  2.41633499, -2.91751723],\n",
       "        [ 1.20874355,  1.30020182,  2.41633499, -2.82865179],\n",
       "        [ 1.42027888,  1.66896137,  3.06224591, -2.77827138]],\n",
       "\n",
       "       ...,\n",
       "\n",
       "       [[ 1.52597851,  1.43767118,  1.98099752, -1.49706959],\n",
       "        [ 1.54862246,  1.48414058,  1.76541327, -1.41520142],\n",
       "        [ 1.57126642,  1.53060998,  1.54982902, -1.63351653],\n",
       "        ...,\n",
       "        [ 1.66044254,  1.67732801,  0.74100728, -1.951193  ],\n",
       "        [ 1.72667541,  1.78109364, -0.1582893 , -1.92950143],\n",
       "        [ 1.75691771,  1.73828003, -0.11030597, -2.54386253]],\n",
       "\n",
       "       [[ 1.54862246,  1.48414058,  1.76541327, -1.41520142],\n",
       "        [ 1.57126642,  1.53060998,  1.54982902, -1.63351653],\n",
       "        [ 1.59391037,  1.57707938,  1.33424477, -1.83153952],\n",
       "        ...,\n",
       "        [ 1.72667541,  1.78109364, -0.1582893 , -1.92950143],\n",
       "        [ 1.75691771,  1.73828003, -0.11030597, -2.54386253],\n",
       "        [ 1.77650719,  1.78773817, -0.67528261, -1.86932483]],\n",
       "\n",
       "       [[ 1.57126642,  1.53060998,  1.54982902, -1.63351653],\n",
       "        [ 1.59391037,  1.57707938,  1.33424477, -1.83153952],\n",
       "        [ 1.66044254,  1.67732801,  0.74100728, -1.951193  ],\n",
       "        ...,\n",
       "        [ 1.75691771,  1.73828003, -0.11030597, -2.54386253],\n",
       "        [ 1.77650719,  1.78773817, -0.67528261, -1.86932483],\n",
       "        [ 1.77650719,  1.78773817, -0.67528261, -1.88681803]]])"
      ]
     },
     "execution_count": 21,
     "metadata": {},
     "output_type": "execute_result"
    }
   ],
   "source": [
    "X_test"
   ]
  },
  {
   "cell_type": "code",
   "execution_count": 23,
   "metadata": {},
   "outputs": [
    {
     "ename": "AttributeError",
     "evalue": "'numpy.ndarray' object has no attribute 'index'",
     "output_type": "error",
     "traceback": [
      "\u001b[0;31m---------------------------------------------------------------------------\u001b[0m",
      "\u001b[0;31mAttributeError\u001b[0m                            Traceback (most recent call last)",
      "\u001b[0;32m<ipython-input-23-cffef85d7fcc>\u001b[0m in \u001b[0;36m<module>\u001b[0;34m\u001b[0m\n\u001b[1;32m      8\u001b[0m \u001b[0mregister_matplotlib_converters\u001b[0m\u001b[0;34m(\u001b[0m\u001b[0;34m)\u001b[0m\u001b[0;34m\u001b[0m\u001b[0;34m\u001b[0m\u001b[0m\n\u001b[1;32m      9\u001b[0m \u001b[0;34m\u001b[0m\u001b[0m\n\u001b[0;32m---> 10\u001b[0;31m \u001b[0mpred_dates\u001b[0m \u001b[0;34m=\u001b[0m \u001b[0my_test\u001b[0m\u001b[0;34m.\u001b[0m\u001b[0mindex\u001b[0m\u001b[0;34m\u001b[0m\u001b[0;34m\u001b[0m\u001b[0m\n\u001b[0m\u001b[1;32m     11\u001b[0m \u001b[0mopen_price\u001b[0m \u001b[0;34m=\u001b[0m \u001b[0mboyd\u001b[0m\u001b[0;34m.\u001b[0m\u001b[0mloc\u001b[0m\u001b[0;34m[\u001b[0m\u001b[0mpred_dates\u001b[0m\u001b[0;34m[\u001b[0m\u001b[0;36m0\u001b[0m\u001b[0;34m]\u001b[0m\u001b[0;34m:\u001b[0m\u001b[0;34m]\u001b[0m\u001b[0;34m[\u001b[0m\u001b[0;34m\"Open\"\u001b[0m\u001b[0;34m]\u001b[0m\u001b[0;34m\u001b[0m\u001b[0;34m\u001b[0m\u001b[0m\n\u001b[1;32m     12\u001b[0m \u001b[0my_predicted\u001b[0m \u001b[0;34m=\u001b[0m \u001b[0my_pred\u001b[0m\u001b[0;34m*\u001b[0m \u001b[0mstd_y\u001b[0m \u001b[0;34m+\u001b[0m \u001b[0mmean_y\u001b[0m\u001b[0;34m\u001b[0m\u001b[0;34m\u001b[0m\u001b[0m\n",
      "\u001b[0;31mAttributeError\u001b[0m: 'numpy.ndarray' object has no attribute 'index'"
     ]
    }
   ],
   "source": [
    "from matplotlib import pyplot as plt\n",
    "\n",
    "boyd = yf.download('BYD', \n",
    "                      start=start_date, \n",
    "                      end=end_date, \n",
    "                      progress=False)\n",
    "from pandas.plotting import register_matplotlib_converters\n",
    "register_matplotlib_converters()\n",
    "\n",
    "pred_dates = y_test.index\n",
    "open_price = boyd.loc[pred_dates[0]:][\"Open\"]\n",
    "y_predicted = y_pred* std_y + mean_y\n",
    "\n",
    "stock = pd.DataFrame(open_price, index = pred_dates)\n",
    "stock['Predicted_Close'] = y_predicted\n",
    "stock['Close'] = y_test * std_y + mean_y\n",
    "stock[\"Date\"] = stock.index\n",
    "stock.loc[stock.index[0],'Predicted_Close'] = stock.loc[stock.index[0],'Open'] - 1 \n",
    "\n",
    "stock['returns_pred']  = stock.Predicted_Close.pct_change()\n",
    "stock['signal'] = np.where(stock['returns_pred']>0 , 1, 0)\n",
    "stock['Best_signal'] = np.where(stock['Close']>stock['Open'] , 1, 0)\n",
    "\n",
    "profit , net = long_only_trading(stock,'signal' ,\"Neural Networks Trading Strategy\",5000, True, True  )\n",
    "#profit , net = long_only_trading(stock,'Best_signal' ,\"Best possible Trading Strategy\",5000, True, True )\n",
    "\n",
    "#Finding sharpe Ratio \n",
    "stock['returns_pred']  = stock.Predicted_Close.pct_change()\n",
    "stock['excess_daily_ret'] = stock['returns_pred'] - 0.05/252\n",
    "sharpe = np.sqrt(30) * stock['excess_daily_ret'].mean() / stock['excess_daily_ret'].std()\n",
    "print(\"Sharpe Ratio is : \"+ str(sharpe) )\n",
    "\n"
   ]
  },
  {
   "cell_type": "code",
   "execution_count": 29,
   "metadata": {},
   "outputs": [
    {
     "data": {
      "text/plain": [
       "(340, 5)"
      ]
     },
     "execution_count": 29,
     "metadata": {},
     "output_type": "execute_result"
    }
   ],
   "source": [
    "train_sample = int(len(boyd) * 0.9)\n",
    "train = val[:train_sample, :]\n",
    "test = val[train_sample : , :]\n",
    "\n",
    "test.shape"
   ]
  },
  {
   "cell_type": "code",
   "execution_count": 32,
   "metadata": {},
   "outputs": [
    {
     "data": {
      "text/plain": [
       "61.799999999999955"
      ]
     },
     "execution_count": 32,
     "metadata": {},
     "output_type": "execute_result"
    }
   ],
   "source": [
    "len(boyd) - len(boyd)*0.9"
   ]
  },
  {
   "cell_type": "code",
   "execution_count": 34,
   "metadata": {},
   "outputs": [
    {
     "data": {
      "text/plain": [
       "(896, 5)"
      ]
     },
     "execution_count": 34,
     "metadata": {},
     "output_type": "execute_result"
    }
   ],
   "source": [
    "val.shape\n"
   ]
  },
  {
   "cell_type": "code",
   "execution_count": 35,
   "metadata": {},
   "outputs": [
    {
     "data": {
      "text/plain": [
       "618"
      ]
     },
     "execution_count": 35,
     "metadata": {},
     "output_type": "execute_result"
    }
   ],
   "source": [
    "len(boyd)"
   ]
  },
  {
   "cell_type": "code",
   "execution_count": null,
   "metadata": {},
   "outputs": [],
   "source": []
  },
  {
   "cell_type": "code",
   "execution_count": null,
   "metadata": {},
   "outputs": [],
   "source": []
  },
  {
   "cell_type": "code",
   "execution_count": null,
   "metadata": {},
   "outputs": [],
   "source": []
  },
  {
   "cell_type": "code",
   "execution_count": 22,
   "metadata": {},
   "outputs": [],
   "source": [
    "def long_only_trading(stock,signal,title,budget=15000, show_graph=True, show_return=True):\n",
    "    \n",
    "    state_check = lambda x, y: 1 if x > y else 0\n",
    "    stock = stock.reset_index()    \n",
    "    money = budget\n",
    "    prev_state = state_check(stock.loc[0].Predicted_Close, stock.loc[0].Open)\n",
    "    stock_amt = 0\n",
    "    net = []\n",
    "    \n",
    "    for i in range(1, len(stock)):\n",
    "\n",
    "        today = stock.iloc[i]\n",
    "        if today[signal] == 1 : \n",
    "            #Buy at open price\n",
    "            stock_amt = int(money / today.Open)\n",
    "            money = 0\n",
    "            net.append([today.Date, today.Open, 1, stock_amt * today.Close])\n",
    "            \n",
    "            \n",
    "            #Sell at close price\n",
    "            money = stock_amt * today.Close\n",
    "            stock_amt = 0\n",
    "            net.append([today.Date, today.Close, 0, money])\n",
    "    \n",
    "    profit = net[-1][3] - budget\n",
    "    \n",
    "    if show_return == True:\n",
    "        print('Number of Trades: {}'.format(len(net)))\n",
    "        print('Time Frame: {} days'.format((net[-1][0] - stock.loc[0].Date).days))\n",
    "        print('Profit: ${:.2f} | {}%'.format(profit, round(profit/budget*100, 2)))\n",
    "\n",
    "    if show_graph == True:\n",
    "        trading_history(stock.set_index('Date'), net,title )\n",
    "\n",
    "    return profit, net    \n",
    "    \n",
    "    \n",
    "    \n",
    "def trading_history(stock, net,title, std=2):    \n",
    "    \n",
    "    # Bollinger band plot with EMA and original historical data\n",
    "    plt.figure(figsize=(10,5))\n",
    "    plt.style.use('seaborn-whitegrid')\n",
    "    plt.plot(stock.index, stock.Close, color='#3388cf', label='Close Price')\n",
    "    plt.plot(stock.index, stock.Open, color='#ffa33f', label='Open Price')\n",
    "  \n",
    "    plt.title(title, fontSize=15)\n",
    "    plt.ylabel('Price', fontSize=12)\n",
    "    plt.xlim([stock.index[0], stock.index[-1]])\n",
    "    \n",
    "    for i in net:\n",
    "        if i[2] == 1: \n",
    "            color = 'green'\n",
    "            marker = '^'\n",
    "        else: \n",
    "            color = 'red'\n",
    "            marker = \"v\"\n",
    "        plt.plot_date(i[0], i[1], color=color, marker = marker )\n",
    "        \n",
    "    plt.plot_date([],[],label='Buy', c='green', marker = '^')\n",
    "    plt.plot_date([],[],label='Sell', c='red', marker = \"v\")\n",
    "        \n",
    "    plt.legend(frameon=True, loc=0, ncol=1, fontsize=10, borderpad=.6)\n",
    "    plt.savefig(title + \".png\")\n",
    "    plt.show()"
   ]
  },
  {
   "cell_type": "code",
   "execution_count": null,
   "metadata": {},
   "outputs": [],
   "source": []
  }
 ],
 "metadata": {
  "kernelspec": {
   "display_name": "Python 3",
   "language": "python",
   "name": "python3"
  },
  "language_info": {
   "codemirror_mode": {
    "name": "ipython",
    "version": 3
   },
   "file_extension": ".py",
   "mimetype": "text/x-python",
   "name": "python",
   "nbconvert_exporter": "python",
   "pygments_lexer": "ipython3",
   "version": "3.7.6"
  }
 },
 "nbformat": 4,
 "nbformat_minor": 4
}
