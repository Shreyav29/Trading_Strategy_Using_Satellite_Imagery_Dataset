{
 "cells": [
  {
   "cell_type": "code",
   "execution_count": 91,
   "metadata": {},
   "outputs": [],
   "source": [
    "import pandas as pd\n",
    "import numpy as np \n",
    "import yfinance as yf\n",
    "import matplotlib.pyplot as plt\n",
    "import datetime \n",
    "\n",
    "from sklearn.metrics import mean_squared_error,mean_absolute_error, r2_score, explained_variance_score\n",
    "\n",
    "\n",
    "from bqplot import pyplot as plt\n",
    "\n",
    "def create_bqplot(y_test, y_pred , title):\n",
    "    \n",
    "    fig = plt.figure(title=title )\n",
    "\n",
    "    options = {'x':{'label':\"Date\"}, 'y':{'label':'Close Price'}}\n",
    "\n",
    "    scat = plt.plot(y_test.index, y_test.values* std_y + mean_y,\n",
    "                       colors=[\"blue\"],\n",
    "                       axes_options = options,\n",
    "                       stroke=\"black\", stroke_width=2.0,\n",
    "                       default_size=150,\n",
    "                       default_opacities=[0.7],\n",
    "                        labels=['Actual Price'], legend_location= {\"bottom\"},display_legend=True ,\n",
    "                    marker_str= \"g-o\"\n",
    "                       )\n",
    "    \n",
    "\n",
    "    scat = plt.plot(y_test.index, y_pred* std_y + mean_y,\n",
    "                       colors=[\"green\"],\n",
    "                       axes_options = options,\n",
    "                       stroke=\"black\", stroke_width=2.0,\n",
    "                       default_size=150,\n",
    "                       default_opacities=[0.7],\n",
    "                       labels=['Predicted Price'],legend_location= {\"bottom\"}, display_legend=True\n",
    "                       )\n",
    "\n",
    "    fig.legend_style = {\n",
    "        'fill': ''  ,\n",
    "        'stroke' : '0' ,\n",
    "        'stroke-width':3,\n",
    "        'opacity':0.7   , \n",
    "        'stroke-width': 0\n",
    "                      }\n",
    "    plt.xlabel(\"Date\")\n",
    "    plt.ylabel(\"Close Price\")\n",
    "    plt.legend()\n",
    "    \n",
    "    plt.show()\n",
    "    return fig \n",
    "    \n",
    "\n",
    "def create_X_data(lag, Dates):\n",
    "    rows_list = []\n",
    "    \n",
    "    for i in range(len(Dates)):\n",
    "        x_date = Dates[i]-  datetime.timedelta(days=lag)\n",
    "        new_df = boyd.loc[x_date : x_date+ datetime.timedelta(days=lag-1)] \n",
    "\n",
    "        c_window = new_df[casino_features][0 :lag]\n",
    "        t_window = new_df[tech_features][0 :lag].dropna()\n",
    "\n",
    "        ans = []\n",
    "        for col in casino_features:\n",
    "            ans.append(np.array(c_window[col]).squeeze())\n",
    "\n",
    "        c_ans = np.concatenate(ans)\n",
    "\n",
    "        ans = []\n",
    "        for col in tech_features:\n",
    "            ans.append(np.array(t_window[col]).squeeze())\n",
    "\n",
    "        t_ans = np.concatenate(ans)\n",
    "        \n",
    "        vector = np.concatenate((c_ans, t_ans), axis=None)\n",
    "        vector = vector.astype('float')\n",
    "        \n",
    "        assert not np.isnan(np.sum(vector))\n",
    "        \n",
    "        rows_list.append(list(vector))\n",
    "        \n",
    "        \n",
    "    X_df = pd.DataFrame(rows_list, index = Dates)\n",
    "    \n",
    "    return X_df, rows_list\n",
    "\n"
   ]
  },
  {
   "cell_type": "markdown",
   "metadata": {},
   "source": [
    "# Reading stock and footfall data\n"
   ]
  },
  {
   "cell_type": "code",
   "execution_count": 80,
   "metadata": {
    "scrolled": false
   },
   "outputs": [
    {
     "name": "stderr",
     "output_type": "stream",
     "text": [
      "/Users/shreyavontela/anaconda3/lib/python3.7/site-packages/ta/trend.py:768: RuntimeWarning: invalid value encountered in double_scalars\n",
      "  dip[i] = 100 * (self._dip[i] / self._trs[i])\n",
      "/Users/shreyavontela/anaconda3/lib/python3.7/site-packages/ta/trend.py:772: RuntimeWarning: invalid value encountered in double_scalars\n",
      "  din[i] = 100 * (self._din[i] / self._trs[i])\n"
     ]
    },
    {
     "data": {
      "text/html": [
       "<div>\n",
       "<style scoped>\n",
       "    .dataframe tbody tr th:only-of-type {\n",
       "        vertical-align: middle;\n",
       "    }\n",
       "\n",
       "    .dataframe tbody tr th {\n",
       "        vertical-align: top;\n",
       "    }\n",
       "\n",
       "    .dataframe thead th {\n",
       "        text-align: right;\n",
       "    }\n",
       "</style>\n",
       "<table border=\"1\" class=\"dataframe\">\n",
       "  <thead>\n",
       "    <tr style=\"text-align: right;\">\n",
       "      <th></th>\n",
       "      <th>trend_macd</th>\n",
       "      <th>momentum_rsi</th>\n",
       "      <th>Volume</th>\n",
       "      <th>Adj Close</th>\n",
       "      <th>total_foot</th>\n",
       "    </tr>\n",
       "  </thead>\n",
       "  <tbody>\n",
       "    <tr>\n",
       "      <th>2018-03-05</th>\n",
       "      <td>0.000000</td>\n",
       "      <td>100.0</td>\n",
       "      <td>1003700.0</td>\n",
       "      <td>34.671322</td>\n",
       "      <td>3619</td>\n",
       "    </tr>\n",
       "    <tr>\n",
       "      <th>2018-03-06</th>\n",
       "      <td>0.028718</td>\n",
       "      <td>100.0</td>\n",
       "      <td>1166400.0</td>\n",
       "      <td>35.025013</td>\n",
       "      <td>4385</td>\n",
       "    </tr>\n",
       "  </tbody>\n",
       "</table>\n",
       "</div>"
      ],
      "text/plain": [
       "            trend_macd  momentum_rsi     Volume  Adj Close  total_foot\n",
       "2018-03-05    0.000000         100.0  1003700.0  34.671322        3619\n",
       "2018-03-06    0.028718         100.0  1166400.0  35.025013        4385"
      ]
     },
     "execution_count": 80,
     "metadata": {},
     "output_type": "execute_result"
    }
   ],
   "source": [
    "#Get the data of the stock\n",
    "start_date = '2018-03-05'\n",
    "end_date = '2020-08-16'\n",
    "\n",
    "boyd = yf.download('BYD', \n",
    "                      start=start_date, \n",
    "                      end=end_date, \n",
    "                      progress=False)\n",
    "\n",
    "from ta import add_all_ta_features\n",
    "\n",
    "a = add_all_ta_features(boyd, open=\"Open\", high=\"High\", low=\"Low\", close=\"Close\", volume=\"Volume\", fillna=True)\n",
    "boyd = boyd[[\"trend_macd\", 'momentum_rsi',\"Volume\" , \"Adj Close\"]]\n",
    "\n",
    "footfall = pd.read_csv(\"casino.csv\", names = ['Date', 'Casino1','Casino2','Casino3','Casino4','Casino5','Casino6','Casino7','Casino8','Casino9']) \n",
    "footfall = footfall.iloc[5:]\n",
    "\n",
    "Date = footfall[\"Date\"]\n",
    "footfall = footfall.drop([\"Date\"], axis=1)\n",
    "footfall.index = pd.date_range('20180305', '20200816')\n",
    "footfall = footfall.astype('int')\n",
    "footfall[\"total_foot\"] = footfall.sum(axis = 1)\n",
    "footfall = footfall.drop(['Casino1','Casino2','Casino3','Casino4','Casino5','Casino6','Casino7','Casino8','Casino9'], axis=1)\n",
    "\n",
    "boyd = boyd.merge(footfall, left_index=True, right_index=True, how='right')\n",
    "\n",
    "casino_features = [\"total_foot\"]\n",
    "tech_features = [\"trend_macd\", 'momentum_rsi',\"Volume\"]\n",
    "\n",
    "boyd.head(2)"
   ]
  },
  {
   "cell_type": "code",
   "execution_count": 81,
   "metadata": {},
   "outputs": [
    {
     "data": {
      "text/html": [
       "<div>\n",
       "<style scoped>\n",
       "    .dataframe tbody tr th:only-of-type {\n",
       "        vertical-align: middle;\n",
       "    }\n",
       "\n",
       "    .dataframe tbody tr th {\n",
       "        vertical-align: top;\n",
       "    }\n",
       "\n",
       "    .dataframe thead th {\n",
       "        text-align: right;\n",
       "    }\n",
       "</style>\n",
       "<table border=\"1\" class=\"dataframe\">\n",
       "  <thead>\n",
       "    <tr style=\"text-align: right;\">\n",
       "      <th></th>\n",
       "      <th>trend_macd</th>\n",
       "      <th>momentum_rsi</th>\n",
       "      <th>Volume</th>\n",
       "      <th>Adj Close</th>\n",
       "      <th>total_foot</th>\n",
       "    </tr>\n",
       "  </thead>\n",
       "  <tbody>\n",
       "    <tr>\n",
       "      <th>2018-03-28</th>\n",
       "      <td>-0.938731</td>\n",
       "      <td>27.522854</td>\n",
       "      <td>1087100.0</td>\n",
       "      <td>30.826263</td>\n",
       "      <td>4448</td>\n",
       "    </tr>\n",
       "    <tr>\n",
       "      <th>2018-03-29</th>\n",
       "      <td>-0.934802</td>\n",
       "      <td>34.235127</td>\n",
       "      <td>3020100.0</td>\n",
       "      <td>31.347742</td>\n",
       "      <td>4361</td>\n",
       "    </tr>\n",
       "    <tr>\n",
       "      <th>2018-03-30</th>\n",
       "      <td>NaN</td>\n",
       "      <td>NaN</td>\n",
       "      <td>NaN</td>\n",
       "      <td>NaN</td>\n",
       "      <td>5102</td>\n",
       "    </tr>\n",
       "    <tr>\n",
       "      <th>2018-03-31</th>\n",
       "      <td>NaN</td>\n",
       "      <td>NaN</td>\n",
       "      <td>NaN</td>\n",
       "      <td>NaN</td>\n",
       "      <td>5335</td>\n",
       "    </tr>\n",
       "    <tr>\n",
       "      <th>2018-04-01</th>\n",
       "      <td>NaN</td>\n",
       "      <td>NaN</td>\n",
       "      <td>NaN</td>\n",
       "      <td>NaN</td>\n",
       "      <td>4768</td>\n",
       "    </tr>\n",
       "    <tr>\n",
       "      <th>2018-04-02</th>\n",
       "      <td>-1.008820</td>\n",
       "      <td>28.363825</td>\n",
       "      <td>1128500.0</td>\n",
       "      <td>30.265427</td>\n",
       "      <td>4157</td>\n",
       "    </tr>\n",
       "    <tr>\n",
       "      <th>2018-04-03</th>\n",
       "      <td>-1.004260</td>\n",
       "      <td>35.314700</td>\n",
       "      <td>1363500.0</td>\n",
       "      <td>30.895136</td>\n",
       "      <td>4181</td>\n",
       "    </tr>\n",
       "    <tr>\n",
       "      <th>2018-04-04</th>\n",
       "      <td>-0.938987</td>\n",
       "      <td>41.347749</td>\n",
       "      <td>1049200.0</td>\n",
       "      <td>31.515009</td>\n",
       "      <td>4340</td>\n",
       "    </tr>\n",
       "    <tr>\n",
       "      <th>2018-04-05</th>\n",
       "      <td>-0.790195</td>\n",
       "      <td>50.031355</td>\n",
       "      <td>2850300.0</td>\n",
       "      <td>32.587486</td>\n",
       "      <td>4361</td>\n",
       "    </tr>\n",
       "    <tr>\n",
       "      <th>2018-04-06</th>\n",
       "      <td>-0.753959</td>\n",
       "      <td>42.988574</td>\n",
       "      <td>1085400.0</td>\n",
       "      <td>31.485491</td>\n",
       "      <td>5165</td>\n",
       "    </tr>\n",
       "    <tr>\n",
       "      <th>2018-04-07</th>\n",
       "      <td>NaN</td>\n",
       "      <td>NaN</td>\n",
       "      <td>NaN</td>\n",
       "      <td>NaN</td>\n",
       "      <td>5332</td>\n",
       "    </tr>\n",
       "    <tr>\n",
       "      <th>2018-04-08</th>\n",
       "      <td>NaN</td>\n",
       "      <td>NaN</td>\n",
       "      <td>NaN</td>\n",
       "      <td>NaN</td>\n",
       "      <td>4879</td>\n",
       "    </tr>\n",
       "    <tr>\n",
       "      <th>2018-04-09</th>\n",
       "      <td>-0.729741</td>\n",
       "      <td>42.077325</td>\n",
       "      <td>939000.0</td>\n",
       "      <td>31.328062</td>\n",
       "      <td>3853</td>\n",
       "    </tr>\n",
       "    <tr>\n",
       "      <th>2018-04-10</th>\n",
       "      <td>-0.660172</td>\n",
       "      <td>46.149387</td>\n",
       "      <td>1250100.0</td>\n",
       "      <td>31.849541</td>\n",
       "      <td>4005</td>\n",
       "    </tr>\n",
       "    <tr>\n",
       "      <th>2018-04-11</th>\n",
       "      <td>-0.588569</td>\n",
       "      <td>47.056947</td>\n",
       "      <td>1026300.0</td>\n",
       "      <td>31.967611</td>\n",
       "      <td>3883</td>\n",
       "    </tr>\n",
       "    <tr>\n",
       "      <th>2018-04-12</th>\n",
       "      <td>-0.470721</td>\n",
       "      <td>52.059893</td>\n",
       "      <td>1586700.0</td>\n",
       "      <td>32.646519</td>\n",
       "      <td>3896</td>\n",
       "    </tr>\n",
       "    <tr>\n",
       "      <th>2018-04-13</th>\n",
       "      <td>-0.408124</td>\n",
       "      <td>48.887394</td>\n",
       "      <td>884700.0</td>\n",
       "      <td>32.213596</td>\n",
       "      <td>4842</td>\n",
       "    </tr>\n",
       "    <tr>\n",
       "      <th>2018-04-14</th>\n",
       "      <td>NaN</td>\n",
       "      <td>NaN</td>\n",
       "      <td>NaN</td>\n",
       "      <td>NaN</td>\n",
       "      <td>5647</td>\n",
       "    </tr>\n",
       "    <tr>\n",
       "      <th>2018-04-15</th>\n",
       "      <td>NaN</td>\n",
       "      <td>NaN</td>\n",
       "      <td>NaN</td>\n",
       "      <td>NaN</td>\n",
       "      <td>4865</td>\n",
       "    </tr>\n",
       "    <tr>\n",
       "      <th>2018-04-16</th>\n",
       "      <td>-0.259502</td>\n",
       "      <td>56.591960</td>\n",
       "      <td>1427200.0</td>\n",
       "      <td>33.384460</td>\n",
       "      <td>3954</td>\n",
       "    </tr>\n",
       "    <tr>\n",
       "      <th>2018-04-17</th>\n",
       "      <td>-0.102610</td>\n",
       "      <td>59.207366</td>\n",
       "      <td>1739000.0</td>\n",
       "      <td>33.846905</td>\n",
       "      <td>4020</td>\n",
       "    </tr>\n",
       "    <tr>\n",
       "      <th>2018-04-18</th>\n",
       "      <td>0.072535</td>\n",
       "      <td>62.519021</td>\n",
       "      <td>1414300.0</td>\n",
       "      <td>34.476616</td>\n",
       "      <td>4202</td>\n",
       "    </tr>\n",
       "    <tr>\n",
       "      <th>2018-04-19</th>\n",
       "      <td>0.208132</td>\n",
       "      <td>62.433715</td>\n",
       "      <td>1342600.0</td>\n",
       "      <td>34.466770</td>\n",
       "      <td>4641</td>\n",
       "    </tr>\n",
       "    <tr>\n",
       "      <th>2018-04-20</th>\n",
       "      <td>0.308807</td>\n",
       "      <td>62.068991</td>\n",
       "      <td>844300.0</td>\n",
       "      <td>34.427418</td>\n",
       "      <td>5888</td>\n",
       "    </tr>\n",
       "    <tr>\n",
       "      <th>2018-04-21</th>\n",
       "      <td>NaN</td>\n",
       "      <td>NaN</td>\n",
       "      <td>NaN</td>\n",
       "      <td>NaN</td>\n",
       "      <td>6550</td>\n",
       "    </tr>\n",
       "    <tr>\n",
       "      <th>2018-04-22</th>\n",
       "      <td>NaN</td>\n",
       "      <td>NaN</td>\n",
       "      <td>NaN</td>\n",
       "      <td>NaN</td>\n",
       "      <td>5311</td>\n",
       "    </tr>\n",
       "    <tr>\n",
       "      <th>2018-04-23</th>\n",
       "      <td>0.386557</td>\n",
       "      <td>62.247128</td>\n",
       "      <td>955500.0</td>\n",
       "      <td>34.456936</td>\n",
       "      <td>3969</td>\n",
       "    </tr>\n",
       "    <tr>\n",
       "      <th>2018-04-24</th>\n",
       "      <td>0.380845</td>\n",
       "      <td>55.012798</td>\n",
       "      <td>1340400.0</td>\n",
       "      <td>33.689476</td>\n",
       "      <td>3782</td>\n",
       "    </tr>\n",
       "    <tr>\n",
       "      <th>2018-04-25</th>\n",
       "      <td>0.332941</td>\n",
       "      <td>51.002653</td>\n",
       "      <td>1447100.0</td>\n",
       "      <td>33.207355</td>\n",
       "      <td>4185</td>\n",
       "    </tr>\n",
       "    <tr>\n",
       "      <th>2018-04-26</th>\n",
       "      <td>0.267683</td>\n",
       "      <td>48.663766</td>\n",
       "      <td>2667500.0</td>\n",
       "      <td>32.912174</td>\n",
       "      <td>4471</td>\n",
       "    </tr>\n",
       "  </tbody>\n",
       "</table>\n",
       "</div>"
      ],
      "text/plain": [
       "            trend_macd  momentum_rsi     Volume  Adj Close  total_foot\n",
       "2018-03-28   -0.938731     27.522854  1087100.0  30.826263        4448\n",
       "2018-03-29   -0.934802     34.235127  3020100.0  31.347742        4361\n",
       "2018-03-30         NaN           NaN        NaN        NaN        5102\n",
       "2018-03-31         NaN           NaN        NaN        NaN        5335\n",
       "2018-04-01         NaN           NaN        NaN        NaN        4768\n",
       "2018-04-02   -1.008820     28.363825  1128500.0  30.265427        4157\n",
       "2018-04-03   -1.004260     35.314700  1363500.0  30.895136        4181\n",
       "2018-04-04   -0.938987     41.347749  1049200.0  31.515009        4340\n",
       "2018-04-05   -0.790195     50.031355  2850300.0  32.587486        4361\n",
       "2018-04-06   -0.753959     42.988574  1085400.0  31.485491        5165\n",
       "2018-04-07         NaN           NaN        NaN        NaN        5332\n",
       "2018-04-08         NaN           NaN        NaN        NaN        4879\n",
       "2018-04-09   -0.729741     42.077325   939000.0  31.328062        3853\n",
       "2018-04-10   -0.660172     46.149387  1250100.0  31.849541        4005\n",
       "2018-04-11   -0.588569     47.056947  1026300.0  31.967611        3883\n",
       "2018-04-12   -0.470721     52.059893  1586700.0  32.646519        3896\n",
       "2018-04-13   -0.408124     48.887394   884700.0  32.213596        4842\n",
       "2018-04-14         NaN           NaN        NaN        NaN        5647\n",
       "2018-04-15         NaN           NaN        NaN        NaN        4865\n",
       "2018-04-16   -0.259502     56.591960  1427200.0  33.384460        3954\n",
       "2018-04-17   -0.102610     59.207366  1739000.0  33.846905        4020\n",
       "2018-04-18    0.072535     62.519021  1414300.0  34.476616        4202\n",
       "2018-04-19    0.208132     62.433715  1342600.0  34.466770        4641\n",
       "2018-04-20    0.308807     62.068991   844300.0  34.427418        5888\n",
       "2018-04-21         NaN           NaN        NaN        NaN        6550\n",
       "2018-04-22         NaN           NaN        NaN        NaN        5311\n",
       "2018-04-23    0.386557     62.247128   955500.0  34.456936        3969\n",
       "2018-04-24    0.380845     55.012798  1340400.0  33.689476        3782\n",
       "2018-04-25    0.332941     51.002653  1447100.0  33.207355        4185\n",
       "2018-04-26    0.267683     48.663766  2667500.0  32.912174        4471"
      ]
     },
     "execution_count": 81,
     "metadata": {},
     "output_type": "execute_result"
    }
   ],
   "source": [
    "boyd[boyd.index >'2018-03-27'].head(30)"
   ]
  },
  {
   "cell_type": "markdown",
   "metadata": {},
   "source": [
    "# Doing holidays adjustment\n"
   ]
  },
  {
   "cell_type": "code",
   "execution_count": 82,
   "metadata": {},
   "outputs": [],
   "source": [
    "\n",
    "y = boyd[\"Adj Close\"][7:]\n",
    "Dates = boyd.index[7:]\n",
    "n_weeks = 0 \n",
    "for i in range(0,len(Dates),7):\n",
    "    week = 7 \n",
    "    x_date = Dates[i] -  datetime.timedelta(days=week)\n",
    "    new_df = boyd.loc[x_date : x_date + datetime.timedelta(days=week-3)]\n",
    "    new_df = new_df.fillna(method='ffill')\n",
    "    new_df = new_df.fillna(method='bfill')\n",
    "    if sum(new_df.isna().sum()) != 0:\n",
    "        print(\"Nan value not getting filled\")\n",
    "        print(i)\n",
    "    boyd.update(new_df)\n",
    "    n_weeks = n_weeks + 1 "
   ]
  },
  {
   "cell_type": "code",
   "execution_count": 83,
   "metadata": {},
   "outputs": [
    {
     "data": {
      "text/plain": [
       "(896, 5)"
      ]
     },
     "execution_count": 83,
     "metadata": {},
     "output_type": "execute_result"
    }
   ],
   "source": [
    "boyd.shape"
   ]
  },
  {
   "cell_type": "markdown",
   "metadata": {},
   "source": [
    "# Creating the input feature vectors "
   ]
  },
  {
   "cell_type": "code",
   "execution_count": null,
   "metadata": {},
   "outputs": [],
   "source": []
  },
  {
   "cell_type": "code",
   "execution_count": 84,
   "metadata": {},
   "outputs": [],
   "source": [
    "Dates = boyd.index[7:]\n",
    "lag = 7\n",
    "X_df , rows_list =create_X_data(lag,Dates)\n",
    "# assert not np.sum(X_df.isna().sum())\n",
    "# assert (n_weeks*2 == y.isna().sum())"
   ]
  },
  {
   "cell_type": "code",
   "execution_count": 85,
   "metadata": {},
   "outputs": [
    {
     "data": {
      "text/html": [
       "<div>\n",
       "<style scoped>\n",
       "    .dataframe tbody tr th:only-of-type {\n",
       "        vertical-align: middle;\n",
       "    }\n",
       "\n",
       "    .dataframe tbody tr th {\n",
       "        vertical-align: top;\n",
       "    }\n",
       "\n",
       "    .dataframe thead th {\n",
       "        text-align: right;\n",
       "    }\n",
       "</style>\n",
       "<table border=\"1\" class=\"dataframe\">\n",
       "  <thead>\n",
       "    <tr style=\"text-align: right;\">\n",
       "      <th></th>\n",
       "      <th>0</th>\n",
       "      <th>1</th>\n",
       "      <th>2</th>\n",
       "      <th>3</th>\n",
       "      <th>4</th>\n",
       "      <th>5</th>\n",
       "      <th>6</th>\n",
       "      <th>7</th>\n",
       "      <th>8</th>\n",
       "      <th>9</th>\n",
       "      <th>...</th>\n",
       "      <th>12</th>\n",
       "      <th>13</th>\n",
       "      <th>14</th>\n",
       "      <th>15</th>\n",
       "      <th>16</th>\n",
       "      <th>17</th>\n",
       "      <th>18</th>\n",
       "      <th>19</th>\n",
       "      <th>20</th>\n",
       "      <th>21</th>\n",
       "    </tr>\n",
       "  </thead>\n",
       "  <tbody>\n",
       "    <tr>\n",
       "      <th>2018-03-12</th>\n",
       "      <td>3619.0</td>\n",
       "      <td>4385.0</td>\n",
       "      <td>4354.0</td>\n",
       "      <td>4749.0</td>\n",
       "      <td>5778.0</td>\n",
       "      <td>5602.0</td>\n",
       "      <td>5070.0</td>\n",
       "      <td>0.000000</td>\n",
       "      <td>0.028718</td>\n",
       "      <td>0.062856</td>\n",
       "      <td>...</td>\n",
       "      <td>100.000000</td>\n",
       "      <td>100.000000</td>\n",
       "      <td>100.000000</td>\n",
       "      <td>83.323807</td>\n",
       "      <td>51.479538</td>\n",
       "      <td>1003700.0</td>\n",
       "      <td>1166400.0</td>\n",
       "      <td>1097800.0</td>\n",
       "      <td>749100.0</td>\n",
       "      <td>1789200.0</td>\n",
       "    </tr>\n",
       "    <tr>\n",
       "      <th>2018-03-13</th>\n",
       "      <td>4385.0</td>\n",
       "      <td>4354.0</td>\n",
       "      <td>4749.0</td>\n",
       "      <td>5778.0</td>\n",
       "      <td>5602.0</td>\n",
       "      <td>5070.0</td>\n",
       "      <td>4283.0</td>\n",
       "      <td>0.028718</td>\n",
       "      <td>0.062856</td>\n",
       "      <td>0.081707</td>\n",
       "      <td>...</td>\n",
       "      <td>100.000000</td>\n",
       "      <td>100.000000</td>\n",
       "      <td>83.323807</td>\n",
       "      <td>51.479538</td>\n",
       "      <td>22.116384</td>\n",
       "      <td>1166400.0</td>\n",
       "      <td>1097800.0</td>\n",
       "      <td>749100.0</td>\n",
       "      <td>1789200.0</td>\n",
       "      <td>2354100.0</td>\n",
       "    </tr>\n",
       "    <tr>\n",
       "      <th>2018-03-14</th>\n",
       "      <td>4354.0</td>\n",
       "      <td>4749.0</td>\n",
       "      <td>5778.0</td>\n",
       "      <td>5602.0</td>\n",
       "      <td>5070.0</td>\n",
       "      <td>4283.0</td>\n",
       "      <td>4286.0</td>\n",
       "      <td>0.062856</td>\n",
       "      <td>0.081707</td>\n",
       "      <td>0.070816</td>\n",
       "      <td>...</td>\n",
       "      <td>100.000000</td>\n",
       "      <td>83.323807</td>\n",
       "      <td>51.479538</td>\n",
       "      <td>22.116384</td>\n",
       "      <td>13.495214</td>\n",
       "      <td>1097800.0</td>\n",
       "      <td>749100.0</td>\n",
       "      <td>1789200.0</td>\n",
       "      <td>2354100.0</td>\n",
       "      <td>2500100.0</td>\n",
       "    </tr>\n",
       "    <tr>\n",
       "      <th>2018-03-15</th>\n",
       "      <td>4749.0</td>\n",
       "      <td>5778.0</td>\n",
       "      <td>5602.0</td>\n",
       "      <td>5070.0</td>\n",
       "      <td>4283.0</td>\n",
       "      <td>4286.0</td>\n",
       "      <td>4563.0</td>\n",
       "      <td>0.081707</td>\n",
       "      <td>0.070816</td>\n",
       "      <td>-0.018297</td>\n",
       "      <td>...</td>\n",
       "      <td>83.323807</td>\n",
       "      <td>51.479538</td>\n",
       "      <td>22.116384</td>\n",
       "      <td>13.495214</td>\n",
       "      <td>28.022092</td>\n",
       "      <td>749100.0</td>\n",
       "      <td>1789200.0</td>\n",
       "      <td>2354100.0</td>\n",
       "      <td>2500100.0</td>\n",
       "      <td>1757100.0</td>\n",
       "    </tr>\n",
       "    <tr>\n",
       "      <th>2018-03-16</th>\n",
       "      <td>5778.0</td>\n",
       "      <td>5602.0</td>\n",
       "      <td>5070.0</td>\n",
       "      <td>4283.0</td>\n",
       "      <td>4286.0</td>\n",
       "      <td>4563.0</td>\n",
       "      <td>5271.0</td>\n",
       "      <td>0.070816</td>\n",
       "      <td>-0.018297</td>\n",
       "      <td>-0.170868</td>\n",
       "      <td>...</td>\n",
       "      <td>51.479538</td>\n",
       "      <td>22.116384</td>\n",
       "      <td>13.495214</td>\n",
       "      <td>28.022092</td>\n",
       "      <td>22.042528</td>\n",
       "      <td>1789200.0</td>\n",
       "      <td>2354100.0</td>\n",
       "      <td>2500100.0</td>\n",
       "      <td>1757100.0</td>\n",
       "      <td>1278000.0</td>\n",
       "    </tr>\n",
       "  </tbody>\n",
       "</table>\n",
       "<p>5 rows × 22 columns</p>\n",
       "</div>"
      ],
      "text/plain": [
       "                0       1       2       3       4       5       6         7   \\\n",
       "2018-03-12  3619.0  4385.0  4354.0  4749.0  5778.0  5602.0  5070.0  0.000000   \n",
       "2018-03-13  4385.0  4354.0  4749.0  5778.0  5602.0  5070.0  4283.0  0.028718   \n",
       "2018-03-14  4354.0  4749.0  5778.0  5602.0  5070.0  4283.0  4286.0  0.062856   \n",
       "2018-03-15  4749.0  5778.0  5602.0  5070.0  4283.0  4286.0  4563.0  0.081707   \n",
       "2018-03-16  5778.0  5602.0  5070.0  4283.0  4286.0  4563.0  5271.0  0.070816   \n",
       "\n",
       "                  8         9   ...          12          13          14  \\\n",
       "2018-03-12  0.028718  0.062856  ...  100.000000  100.000000  100.000000   \n",
       "2018-03-13  0.062856  0.081707  ...  100.000000  100.000000   83.323807   \n",
       "2018-03-14  0.081707  0.070816  ...  100.000000   83.323807   51.479538   \n",
       "2018-03-15  0.070816 -0.018297  ...   83.323807   51.479538   22.116384   \n",
       "2018-03-16 -0.018297 -0.170868  ...   51.479538   22.116384   13.495214   \n",
       "\n",
       "                   15         16         17         18         19         20  \\\n",
       "2018-03-12  83.323807  51.479538  1003700.0  1166400.0  1097800.0   749100.0   \n",
       "2018-03-13  51.479538  22.116384  1166400.0  1097800.0   749100.0  1789200.0   \n",
       "2018-03-14  22.116384  13.495214  1097800.0   749100.0  1789200.0  2354100.0   \n",
       "2018-03-15  13.495214  28.022092   749100.0  1789200.0  2354100.0  2500100.0   \n",
       "2018-03-16  28.022092  22.042528  1789200.0  2354100.0  2500100.0  1757100.0   \n",
       "\n",
       "                   21  \n",
       "2018-03-12  1789200.0  \n",
       "2018-03-13  2354100.0  \n",
       "2018-03-14  2500100.0  \n",
       "2018-03-15  1757100.0  \n",
       "2018-03-16  1278000.0  \n",
       "\n",
       "[5 rows x 22 columns]"
      ]
     },
     "execution_count": 85,
     "metadata": {},
     "output_type": "execute_result"
    }
   ],
   "source": [
    "X_df.head()"
   ]
  },
  {
   "cell_type": "code",
   "execution_count": 86,
   "metadata": {},
   "outputs": [],
   "source": [
    "merged_df =X_df.merge(y, left_index=True, right_index=True, how='inner')\n",
    "\n",
    "merged_df = merged_df.dropna()\n",
    "\n",
    "\n",
    "X = merged_df[X_df.columns.values]\n",
    "y = merged_df['Adj Close']"
   ]
  },
  {
   "cell_type": "markdown",
   "metadata": {},
   "source": [
    "# Run a linear regression model to predict the stock price \n"
   ]
  },
  {
   "cell_type": "code",
   "execution_count": 96,
   "metadata": {},
   "outputs": [],
   "source": [
    "from sklearn.model_selection import train_test_split\n",
    "from sklearn.linear_model import LinearRegression, Lasso, Ridge \n"
   ]
  },
  {
   "cell_type": "code",
   "execution_count": 98,
   "metadata": {
    "scrolled": true
   },
   "outputs": [
    {
     "data": {
      "text/plain": [
       "(0.12462268288456614, 0.491836752354081, 0.491836752354081, 0.6181320217611936)"
      ]
     },
     "execution_count": 98,
     "metadata": {},
     "output_type": "execute_result"
    }
   ],
   "source": [
    "X_new = X \n",
    "y_new = y \n",
    "\n",
    "split = 0.95\n",
    "X_train = X_new[:int(len(X_new)*split)]\n",
    "X_test = X_new[int(len(X_new)*split):]\n",
    "y_train = y_new[:int(len(X_new)*split)]\n",
    "y_test = y_new[int(len(X_new)*split):]\n",
    "\n",
    "\n",
    "#Standardizing the data \n",
    "mean = np.mean(X_train)\n",
    "std = np.std(X_train)\n",
    "X_train = (X_train - mean)/std\n",
    "X_test = (X_test - mean)/std\n",
    "\n",
    "mean_y = np.mean(y_train)\n",
    "std_y = np.std(y_train)\n",
    "y_train = (y_train - mean_y)/std_y\n",
    "y_test = (y_test - mean_y)/std_y\n",
    "\n",
    "\n",
    "model = LinearRegression()\n",
    "model.fit(X_train, y_train)\n",
    "y_pred = model.predict(X_test)\n",
    "\n",
    "mean_squared_error(y_test, y_pred), model.score(X_test,y_test), r2_score(y_test, y_pred), explained_variance_score(y_test, y_pred)\n",
    "\n"
   ]
  },
  {
   "cell_type": "code",
   "execution_count": 94,
   "metadata": {},
   "outputs": [],
   "source": [
    "y_pred = model.predict(X_train)\n"
   ]
  },
  {
   "cell_type": "code",
   "execution_count": 95,
   "metadata": {},
   "outputs": [
    {
     "data": {
      "text/plain": [
       "(0.44736339875628833,\n",
       " 0.5526366012437114,\n",
       " 0.5526366012437114,\n",
       " 0.5526366012437114)"
      ]
     },
     "execution_count": 95,
     "metadata": {},
     "output_type": "execute_result"
    }
   ],
   "source": [
    "mean_squared_error(y_train, y_pred), model.score(X_train,y_train)"
   ]
  },
  {
   "cell_type": "code",
   "execution_count": 68,
   "metadata": {
    "scrolled": true
   },
   "outputs": [
    {
     "data": {
      "application/vnd.jupyter.widget-view+json": {
       "model_id": "b050d011acb146d8be6554aec6bf349c",
       "version_major": 2,
       "version_minor": 0
      },
      "text/plain": [
       "VBox(children=(Figure(axes=[Axis(label='Date', scale=DateScale()), Axis(label='Close Price', orientation='vert…"
      ]
     },
     "metadata": {},
     "output_type": "display_data"
    }
   ],
   "source": [
    "from bqplot import pyplot as plt\n",
    "title = \"Linear Regression-Overfitting Train Data \"\n",
    "fig = create_bqplot(y_train, y_pred, title)"
   ]
  },
  {
   "cell_type": "code",
   "execution_count": 69,
   "metadata": {},
   "outputs": [],
   "source": [
    "fig.save_png(title + \".png\")"
   ]
  },
  {
   "cell_type": "code",
   "execution_count": 16,
   "metadata": {},
   "outputs": [],
   "source": [
    "# from yellowbrick.regressor import PredictionError, ResidualsPlot\n",
    "# viz = ResidualsPlot(model)\n",
    "# viz.fit(X_train,y_train)\n",
    "# viz.score(X_test,y_test)"
   ]
  },
  {
   "cell_type": "code",
   "execution_count": 15,
   "metadata": {},
   "outputs": [
    {
     "name": "stdout",
     "output_type": "stream",
     "text": [
      "Number of Trades: 32\n",
      "Time Frame: 42 days\n",
      "Profit: $20.95 | 0.42%\n"
     ]
    },
    {
     "name": "stderr",
     "output_type": "stream",
     "text": [
      "/Users/shreyavontela/anaconda3/lib/python3.7/site-packages/ipykernel_launcher.py:48: MatplotlibDeprecationWarning: Case-insensitive properties were deprecated in 3.3 and support will be removed two minor releases later\n",
      "/Users/shreyavontela/anaconda3/lib/python3.7/site-packages/ipykernel_launcher.py:49: MatplotlibDeprecationWarning: Case-insensitive properties were deprecated in 3.3 and support will be removed two minor releases later\n"
     ]
    },
    {
     "data": {
      "image/png": "[encoded data removed]",
      "text/plain": [
       "<Figure size 720x360 with 1 Axes>"
      ]
     },
     "metadata": {
      "needs_background": "light"
     },
     "output_type": "display_data"
    },
    {
     "name": "stdout",
     "output_type": "stream",
     "text": [
      "Sharpe Ratio is : 1.1901137444022387\n"
     ]
    }
   ],
   "source": [
    "from matplotlib import pyplot as plt\n",
    "#Trading Strategy \n",
    "\n",
    "boyd = yf.download('BYD', \n",
    "                      start=start_date, \n",
    "                      end=end_date, \n",
    "                      progress=False)\n",
    "from pandas.plotting import register_matplotlib_converters\n",
    "register_matplotlib_converters()\n",
    "\n",
    "pred_dates = y_test.index\n",
    "open_price = boyd.loc[pred_dates[0]:][\"Open\"]\n",
    "y_predicted = y_pred* std_y + mean_y\n",
    "\n",
    "stock = pd.DataFrame(open_price, index = pred_dates)\n",
    "stock['Predicted_Close'] = y_predicted\n",
    "stock['Close'] = y_test * std_y + mean_y\n",
    "stock[\"Date\"] = stock.index\n",
    "stock.loc[stock.index[0],'Predicted_Close'] = stock.loc[stock.index[0],'Open'] - 1 \n",
    "\n",
    "stock['returns_pred']  = stock.Predicted_Close.pct_change()\n",
    "stock['signal'] = np.where(stock['returns_pred']>0 , 1, 0)\n",
    "stock['Best_signal'] = np.where(stock['Close']>stock['Open'] , 1, 0)\n",
    "stock = stock.interpolate()\n",
    "profit , net = long_only_trading(stock,'signal' ,\"Linear Regression Trading Strategy\",5000, True, True  )\n",
    "\n",
    "#Finding sharpe Ratio \n",
    "stock['returns_pred']  = stock.Predicted_Close.pct_change()\n",
    "stock['excess_daily_ret'] = stock['returns_pred'] - 0.05/252\n",
    "sharpe = np.sqrt(30) * stock['excess_daily_ret'].mean() / stock['excess_daily_ret'].std()\n",
    "print(\"Sharpe Ratio is : \"+ str(sharpe) )\n",
    "\n"
   ]
  },
  {
   "cell_type": "markdown",
   "metadata": {},
   "source": [
    "# Lasso Regression model "
   ]
  },
  {
   "cell_type": "code",
   "execution_count": 71,
   "metadata": {},
   "outputs": [
    {
     "name": "stderr",
     "output_type": "stream",
     "text": [
      "/Users/shreyavontela/anaconda3/lib/python3.7/site-packages/sklearn/linear_model/_coordinate_descent.py:476: ConvergenceWarning: Objective did not converge. You might want to increase the number of iterations. Duality gap: 76.47637245776649, tolerance: 0.06029999999999997\n",
      "  positive)\n"
     ]
    }
   ],
   "source": [
    "thr = [i for i in np.arange(0.0001,1 , 0.05)]\n",
    "for k in thr: \n",
    "    model = Lasso(k)\n",
    "    model.fit(X_train, y_train)\n",
    "    y_pred = model.predict(X_test)\n",
    "\n",
    "    mean_squared_error(y_test, y_pred), model.score(X_test,y_test)"
   ]
  },
  {
   "cell_type": "code",
   "execution_count": 72,
   "metadata": {
    "scrolled": true
   },
   "outputs": [
    {
     "data": {
      "text/plain": [
       "(0.11007685070148696, 0.5511490472812628)"
      ]
     },
     "execution_count": 72,
     "metadata": {},
     "output_type": "execute_result"
    }
   ],
   "source": [
    "model = Lasso(0.0028)\n",
    "model.fit(X_train, y_train)\n",
    "y_pred = model.predict(X_test)\n",
    "\n",
    "mean_squared_error(y_test, y_pred), model.score(X_test,y_test)"
   ]
  },
  {
   "cell_type": "code",
   "execution_count": 74,
   "metadata": {},
   "outputs": [
    {
     "data": {
      "text/plain": [
       "(0.4607313079046173, 0.5392686920953824)"
      ]
     },
     "execution_count": 74,
     "metadata": {},
     "output_type": "execute_result"
    }
   ],
   "source": [
    "y_pred = model.predict(X_train)\n",
    "\n",
    "mean_squared_error(y_train, y_pred), model.score(X_train,y_train)"
   ]
  },
  {
   "cell_type": "code",
   "execution_count": null,
   "metadata": {},
   "outputs": [],
   "source": []
  },
  {
   "cell_type": "code",
   "execution_count": 76,
   "metadata": {
    "scrolled": true
   },
   "outputs": [
    {
     "data": {
      "application/vnd.jupyter.widget-view+json": {
       "model_id": "7e11853636794cde9ffa56ebfacb9286",
       "version_major": 2,
       "version_minor": 0
      },
      "text/plain": [
       "VBox(children=(Figure(axes=[Axis(label='Date', scale=DateScale()), Axis(label='Close Price', orientation='vert…"
      ]
     },
     "metadata": {},
     "output_type": "display_data"
    }
   ],
   "source": [
    "from bqplot import pyplot as plt\n",
    "title = \"Lasso Model Price Prediction with alpha = 0.0028 \"\n",
    "fig = create_bqplot(y_train, y_pred, title)"
   ]
  },
  {
   "cell_type": "code",
   "execution_count": 78,
   "metadata": {},
   "outputs": [
    {
     "ename": "TypeError",
     "evalue": "'builtin_function_or_method' object is not subscriptable",
     "output_type": "error",
     "traceback": [
      "\u001b[0;31m---------------------------------------------------------------------------\u001b[0m",
      "\u001b[0;31mTypeError\u001b[0m                                 Traceback (most recent call last)",
      "\u001b[0;32m<ipython-input-78-eacc9bd6fc33>\u001b[0m in \u001b[0;36m<module>\u001b[0;34m\u001b[0m\n\u001b[0;32m----> 1\u001b[0;31m \u001b[0mnp\u001b[0m\u001b[0;34m.\u001b[0m\u001b[0marray\u001b[0m\u001b[0;34m[\u001b[0m\u001b[0;36m1\u001b[0m\u001b[0;34m]\u001b[0m\u001b[0;34m\u001b[0m\u001b[0;34m\u001b[0m\u001b[0m\n\u001b[0m",
      "\u001b[0;31mTypeError\u001b[0m: 'builtin_function_or_method' object is not subscriptable"
     ]
    }
   ],
   "source": [
    "np.array[1]"
   ]
  },
  {
   "cell_type": "code",
   "execution_count": 19,
   "metadata": {},
   "outputs": [],
   "source": [
    "fig.save_png(title + \".png\")"
   ]
  },
  {
   "cell_type": "code",
   "execution_count": 21,
   "metadata": {
    "scrolled": true
   },
   "outputs": [
    {
     "name": "stdout",
     "output_type": "stream",
     "text": [
      "Number of Trades: 36\n",
      "Time Frame: 42 days\n",
      "Profit: $450.55 | 9.01%\n"
     ]
    },
    {
     "name": "stderr",
     "output_type": "stream",
     "text": [
      "/Users/shreyavontela/anaconda3/lib/python3.7/site-packages/ipykernel_launcher.py:48: MatplotlibDeprecationWarning: Case-insensitive properties were deprecated in 3.3 and support will be removed two minor releases later\n",
      "/Users/shreyavontela/anaconda3/lib/python3.7/site-packages/ipykernel_launcher.py:49: MatplotlibDeprecationWarning: Case-insensitive properties were deprecated in 3.3 and support will be removed two minor releases later\n"
     ]
    },
    {
     "data": {
      "image/png": "[encoded data removed]",
      "text/plain": [
       "<Figure size 720x360 with 1 Axes>"
      ]
     },
     "metadata": {},
     "output_type": "display_data"
    },
    {
     "name": "stdout",
     "output_type": "stream",
     "text": [
      "Sharpe Ratio is : 1.3635258592497241\n"
     ]
    }
   ],
   "source": [
    "from matplotlib import pyplot as plt\n",
    "#Trading Strategy \n",
    "boyd = yf.download('BYD', \n",
    "                      start=start_date, \n",
    "                      end=end_date, \n",
    "                      progress=False)\n",
    "from pandas.plotting import register_matplotlib_converters\n",
    "register_matplotlib_converters()\n",
    "\n",
    "pred_dates = y_test.index\n",
    "open_price = boyd.loc[pred_dates[0]:][\"Open\"]\n",
    "y_predicted = y_pred* std_y + mean_y\n",
    "\n",
    "stock = pd.DataFrame(open_price, index = pred_dates)\n",
    "stock['Predicted_Close'] = y_predicted\n",
    "stock['Close'] = y_test * std_y + mean_y\n",
    "stock[\"Date\"] = stock.index\n",
    "stock.loc[stock.index[0],'Predicted_Close'] = stock.loc[stock.index[0],'Open'] - 1 \n",
    "\n",
    "stock['returns_pred']  = stock.Predicted_Close.pct_change()\n",
    "stock['signal'] = np.where(stock['returns_pred']>0 , 1, 0)\n",
    "stock['Best_signal'] = np.where(stock['Close']>stock['Open'] , 1, 0)\n",
    "stock = stock.interpolate()\n",
    "profit , net = long_only_trading(stock,'signal' ,\"Lasso Regression Trading Strategy\",5000, True, True  )\n",
    "\n",
    "#Finding sharpe Ratio \n",
    "stock['returns_pred']  = stock.Predicted_Close.pct_change()\n",
    "stock['excess_daily_ret'] = stock['returns_pred'] - 0.05/252\n",
    "sharpe = np.sqrt(30) * stock['excess_daily_ret'].mean() / stock['excess_daily_ret'].std()\n",
    "print(\"Sharpe Ratio is : \"+ str(sharpe) )\n",
    "\n"
   ]
  },
  {
   "cell_type": "markdown",
   "metadata": {},
   "source": [
    "\n",
    "# Ridge Regression \n"
   ]
  },
  {
   "cell_type": "code",
   "execution_count": 19,
   "metadata": {
    "collapsed": true
   },
   "outputs": [
    {
     "name": "stdout",
     "output_type": "stream",
     "text": [
      "0.0001 0.12461958931150305 0.49184936675218405\n",
      "0.050100000000000006 0.12321102938196205 0.4975929310193926\n",
      "0.10010000000000001 0.12200113786169274 0.502526402117979\n",
      "0.1501 0.12093559618251416 0.5068712702243334\n",
      "0.2001 0.11998670328967569 0.5107404895585022\n",
      "0.2501 0.11913564318572359 0.5142107845028564\n",
      "0.30010000000000003 0.11836815087806452 0.5173403221967652\n",
      "0.3501 0.1176728624365995 0.5201754403653638\n",
      "0.4001 0.11704048178885301 0.5227540448077423\n",
      "0.4501 0.11646327762753902 0.5251076608139051\n",
      "0.5001 0.11593474459003365 0.5272628147442346\n",
      "0.5501 0.11544935935722558 0.5292420285643351\n",
      "0.6001000000000001 0.11500239756160781 0.5310645664232347\n",
      "0.6501 0.11458979246580644 0.5327470109078547\n",
      "0.7001000000000001 0.11420802372237318 0.5343037166376812\n",
      "0.7501 0.11385402851967832 0.5357471725775531\n",
      "0.8001 0.11352512978556858 0.5370882947954614\n",
      "0.8501000000000001 0.11321897762150593 0.5383366652715489\n",
      "0.9001 0.11293350114201109 0.5395007282782889\n",
      "0.9501000000000001 0.1126668685903852 0.540587953013194\n",
      "1.0001 0.11241745409995763 0.5416049691336303\n",
      "1.0501 0.11218380983520491 0.5425576803545928\n",
      "1.1001 0.11196464251960128 0.5434513601590802\n",
      "1.1501000000000001 0.11175879356357951 0.5442907328286082\n",
      "1.2001000000000002 0.1115652221644642 0.5450800423551645\n",
      "1.2501 0.1113829908730852 0.545823111294995\n",
      "1.3001 0.11121125321796939 0.5465233912323767\n",
      "1.3501 0.1110492430539034 0.5471840062120725\n",
      "1.4001000000000001 0.11089626536193953 0.5478077902533594\n",
      "1.4501000000000002 0.11075168827619035 0.5483973198616854\n",
      "1.5001 0.11061493615156845 0.5489549422957547\n",
      "1.5501 0.11048548351808031 0.5494828002195853\n",
      "1.6001 0.11036284979281469 0.5499828532649818\n",
      "1.6501000000000001 0.11024659464170922 0.5504568969444621\n",
      "1.7001000000000002 0.11013631390030852 0.5509065792848342\n",
      "1.7501 0.1100316359769144 0.5513334154937615\n",
      "1.8001 0.10993221867322542 0.5517388009239692\n",
      "1.8501 0.10983774636733494 0.5521240225598921\n",
      "1.9001000000000001 0.10974792751208337 0.5524902692184298\n",
      "1.9501000000000002 0.1096624924085686 0.5528386406277122\n",
      "2.0001 0.10958119122034553 0.5531701555244277\n",
      "2.0501000000000005 0.10950379219867959 0.5534857588905566\n",
      "2.1001000000000003 0.10943008009329336 0.5537863284337319\n",
      "2.1501 0.1093598547264965 0.5540726804013882\n",
      "2.2001000000000004 0.10929292971156114 0.5543455748067334\n",
      "2.2501 0.10922913129869467 0.5546057201344257\n",
      "2.3001000000000005 0.1091682973341119 0.5548537775850759\n",
      "2.3501000000000003 0.10911027631957027 0.5550903649101018\n",
      "2.4001000000000006 0.1090549265612836 0.5553160598821272\n",
      "2.4501000000000004 0.10900211539853037 0.5555314034404222\n",
      "2.5001 0.10895171850342888 0.5557369025461489\n",
      "2.5501000000000005 0.10890361924437367 0.5559330327780225\n",
      "2.6001000000000003 0.10885770810652916 0.5561202406953147\n",
      "2.6501000000000006 0.10881388216352415 0.55629894599208\n",
      "2.7001000000000004 0.10877204459518788 0.5564695434636419\n",
      "2.7501 0.10873210424672716 0.5566324048040987\n",
      "2.8001000000000005 0.10869397522528082 0.556787880251419\n",
      "2.8501000000000003 0.10865757653022004 0.5569363000949341\n",
      "2.9001000000000006 0.10862283171396757 0.5570779760583867\n",
      "2.9501000000000004 0.1085896685704513 0.5572132025702969\n",
      "3.0001 0.10855801884861455 0.5573422579321572\n",
      "3.0501000000000005 0.10852781798867596 0.5574654053938621\n",
      "3.1001000000000003 0.10849900487906983 0.5575828941448127\n",
      "3.1501000000000006 0.10847152163220937 0.5576949602282673\n",
      "3.2001000000000004 0.10844531337740285 0.5578018273857489\n",
      "3.2501 0.10842032806941937 0.5579037078376412\n",
      "3.3001000000000005 0.10839651631134803 0.5580008030055\n",
      "3.3501000000000003 0.10837383119052607 0.558093304181075\n",
      "3.4001000000000006 0.10835222812643587 0.5581813931465271\n",
      "3.4501000000000004 0.10833166472955921 0.558265242749967\n",
      "3.5001 0.10831210067029563 0.5583450174399545\n",
      "3.5501000000000005 0.10829349755711248 0.5584208737623563\n",
      "3.6001000000000003 0.10827581882318418 0.5584929608225875\n",
      "3.6501000000000006 0.1082590296208431 0.5585614207159997\n",
      "3.7001000000000004 0.10824309672322101 0.5586263889289498\n",
      "3.7501 0.10822798843252286 0.5586879947128236\n",
      "3.8001000000000005 0.10821367449441427 0.5587463614331307\n",
      "3.8501000000000003 0.10820012601806153 0.5588016068955515\n",
      "3.9001000000000006 0.10818731540138865 0.5588538436507083\n",
      "3.9501000000000004 0.10817521626116489 0.5589031792792434\n",
      "4.0001 0.10816380336756456 0.5589497166586572\n",
      "4.0501 0.10815305258286445 0.5589935542132782\n",
      "4.1001 0.10814294080398766 0.5590347861485452\n",
      "4.1501 0.10813344590860849 0.5590735026707727\n",
      "4.2001 0.10812454670456759 0.5591097901934148\n",
      "4.2501 0.10811622288236558 0.5591437315307788\n",
      "4.3001 0.10810845497051712 0.5591754060800741\n",
      "4.3501 0.10810122429356665 0.5592048899926073\n",
      "4.4001 0.10809451293258807 0.5592322563348499\n",
      "4.4501 0.1080883036879934 0.5592575752400895\n",
      "4.5001 0.10808258004450023 0.5592809140512796\n",
      "4.5501 0.10807732613810991 0.5593023374556898\n",
      "4.6001 0.10807252672496657 0.5593219076118867\n",
      "4.6501 0.10806816715197257 0.5593396842695522\n",
      "4.7001 0.10806423332904477 0.5593557248826121\n",
      "4.7501 0.10806071170291148 0.5593700847160827\n",
      "4.8001000000000005 0.10805758923234372 0.5593828169470672\n",
      "4.8501 0.10805485336473844 0.5593939727602406\n",
      "4.9001 0.10805249201396269 0.5594036014381929\n",
      "4.9501 0.1080504935393838 0.5594117504469354\n"
     ]
    }
   ],
   "source": [
    "thr = [i for i in np.arange(0.0001,5 , 0.05)]\n",
    "for k in thr: \n",
    "    model = Ridge(k)\n",
    "    model.fit(X_train, y_train)\n",
    "    y_pred = model.predict(X_test)\n",
    "\n",
    "    print(k, mean_squared_error(y_test, y_pred), model.score(X_test,y_test))"
   ]
  },
  {
   "cell_type": "code",
   "execution_count": 21,
   "metadata": {},
   "outputs": [
    {
     "data": {
      "text/plain": [
       "(0.11241793673481162, 0.5416030011347945)"
      ]
     },
     "execution_count": 21,
     "metadata": {},
     "output_type": "execute_result"
    }
   ],
   "source": [
    "model = Ridge(1)\n",
    "model.fit(X_train, y_train)\n",
    "y_pred = model.predict(X_test)\n",
    "\n",
    "mean_squared_error(y_test, y_pred), model.score(X_test,y_test)"
   ]
  },
  {
   "cell_type": "markdown",
   "metadata": {},
   "source": [
    "## NeuralNetworks"
   ]
  },
  {
   "cell_type": "code",
   "execution_count": 34,
   "metadata": {
    "scrolled": true
   },
   "outputs": [
    {
     "name": "stdout",
     "output_type": "stream",
     "text": [
      "0.6363680163732535 0.8019086128147763\n",
      "Train data Mean Squared Error is 0.36363198362674676\n",
      "Test data Mean Squared Error is 0.039968910137805964\n",
      "Train data Mean Alsolute Error is 0.50736923777444\n",
      "Test data Mean Alsolute Error is 0.16954718846488356\n"
     ]
    },
    {
     "name": "stderr",
     "output_type": "stream",
     "text": [
      "/Users/shreyavontela/anaconda3/lib/python3.7/site-packages/sklearn/neural_network/_multilayer_perceptron.py:571: ConvergenceWarning: Stochastic Optimizer: Maximum iterations (500) reached and the optimization hasn't converged yet.\n",
      "  % self.max_iter, ConvergenceWarning)\n"
     ]
    }
   ],
   "source": [
    "X_new = X\n",
    "y_new = y\n",
    "\n",
    "\n",
    "split = 0.96\n",
    "X_train = X_new[:int(len(X_new)*split)]\n",
    "X_test = X_new[int(len(X_new)*split):]\n",
    "y_train = y_new[:int(len(X_new)*split)]\n",
    "y_test = y_new[int(len(X_new)*split):]\n",
    "\n",
    "#Standardizing the data \n",
    "mean = np.mean(X_train)\n",
    "std = np.std(X_train)\n",
    "X_train = (X_train - mean)/std\n",
    "X_test = (X_test - mean)/std\n",
    "\n",
    "mean_y = np.mean(y_train)\n",
    "std_y = np.std(y_train)\n",
    "y_train = (y_train - mean_y)/std_y\n",
    "y_test = (y_test - mean_y)/std_y\n",
    "\n",
    "from sklearn.neural_network import MLPRegressor\n",
    "\n",
    "from sklearn.model_selection import train_test_split\n",
    "\n",
    "regr = MLPRegressor(random_state=1, \n",
    "                    max_iter=500, \n",
    "                    alpha=1, \n",
    "                    activation = 'relu',\n",
    "                    hidden_layer_sizes = (100, 20, 10),\n",
    "                    solver = 'sgd',\n",
    "                    learning_rate = 'adaptive'\n",
    "                   )\n",
    "\n",
    "regr = regr.fit(X_train, y_train)\n",
    "y_pred_train = regr.predict(X_train)\n",
    "y_pred = regr.predict(X_test)\n",
    "\n",
    "print(regr.score(X_train, y_train), regr.score(X_test, y_test))\n",
    "MSE_error = mean_squared_error(y_train, y_pred_train)\n",
    "print('Train data Mean Squared Error is {}'.format(MSE_error))\n",
    "\n",
    "MSE_error = mean_squared_error(y_test, y_pred)\n",
    "print('Test data Mean Squared Error is {}'.format(MSE_error))\n",
    "\n",
    "MSE_error = mean_absolute_error(y_train, y_pred_train)\n",
    "print('Train data Mean Alsolute Error is {}'.format(MSE_error))\n",
    "\n",
    "MSE_error = mean_absolute_error(y_test, y_pred)\n",
    "print('Test data Mean Alsolute Error is {}'.format(MSE_error))\n"
   ]
  },
  {
   "cell_type": "code",
   "execution_count": 44,
   "metadata": {},
   "outputs": [],
   "source": [
    "MLPRegressor(random_state=1, max_iter=500, alpha=1)\n",
    "0.670577801048615 0.7402082686703921\n",
    "Train data Mean Squared Error is 0.3294221989513853\n",
    "Test data Mean Squared Error is 0.052418191985040906\n",
    "\n",
    "\n",
    "regr = MLPRegressor(random_state=1, max_iter=500, alpha=1, hidden_layer_sizes = (100, 50, 25))\n",
    "0.6308610962084 0.7573398825391179\n",
    "Train data Mean Squared Error is 0.3691389037916002\n",
    "Test data Mean Squared Error is 0.0489615453081491\n",
    "\n",
    "regr = MLPRegressor(random_state=1, max_iter=500, alpha=1, hidden_layer_sizes = (100, 50, 100)).fit(X_train, y_train)\n",
    "0.6472984364401968 0.7797198576482328\n",
    "Train data Mean Squared Error is 0.3527015635598035\n",
    "Test data Mean Squared Error is 0.044445936493788335\n",
    "\n",
    "regr = MLPRegressor(random_state=9, max_iter=500, alpha=1, hidden_layer_sizes = (100, 50, 100)).fit(X_train, y_train)\n",
    "0.6396932673546982 0.7597106783680551\n",
    "Train data Mean Squared Error is 0.36030673264530205\n",
    "Test data Mean Squared Error is 0.048483189702747266\n",
    "MLPRegressor(random_state=1, max_iter=500, alpha=1)\n",
    "\n",
    "regr = MLPRegressor(random_state=100, max_iter=500, alpha=1, hidden_layer_sizes = (100, 50, 100)).fit(X_train, y_train)\n",
    "0.6432292510305666 0.742223274215742\n",
    "Train data Mean Squared Error is 0.3567707489694337\n",
    "Test data Mean Squared Error is 0.052011624204817496\n",
    "\n",
    "\n",
    "regr = MLPRegressor(random_state=1, \n",
    "                    max_iter=500, \n",
    "                    alpha=1, \n",
    "                    hidden_layer_sizes = (100, 20, 10),\n",
    "                    solver = 'sgd',\n",
    "                    learning_rate = 'adaptive'\n",
    "                   )\n",
    "0.6363680163732535 0.8019086128147763\n",
    "Train data Mean Squared Error is 0.36363198362674676\n",
    "Test data Mean Squared Error is 0.039968910137805964\n",
    "Train data Mean Alsolute Error is 0.50736923777444\n",
    "Test data Mean Alsolute Error is 0.16954718846488356\n",
    "\n",
    "random_state = 2 \n",
    "0.6402314541133234 0.7576016370308111\n",
    "Train data Mean Squared Error is 0.35976854588667684\n",
    "Test data Mean Squared Error is 0.048908731089897045\n",
    "Train data Mean Alsolute Error is 0.5081986103341545\n",
    "Test data Mean Alsolute Error is 0.1769554139864444\n",
    "\n",
    "random_state = 5 \n",
    "0.642772412166635 0.7283084189846871\n",
    "Train data Mean Squared Error is 0.35722758783336517\n",
    "Test data Mean Squared Error is 0.05481922531364601\n",
    "Train data Mean Alsolute Error is 0.507600245183888\n",
    "Test data Mean Alsolute Error is 0.18514739089851748\n",
    "\n",
    "random_state = 10\n",
    "0.6277085381077268 0.7608840852518693\n",
    "Train data Mean Squared Error is 0.3722914618922735\n",
    "Test data Mean Squared Error is 0.04824643133096403\n",
    "Train data Mean Alsolute Error is 0.5185469179442196\n",
    "Test data Mean Alsolute Error is 0.18321462910130154"
   ]
  },
  {
   "cell_type": "markdown",
   "metadata": {},
   "source": [
    "## Using Time Series Split in Grid Search CV "
   ]
  },
  {
   "cell_type": "code",
   "execution_count": 23,
   "metadata": {},
   "outputs": [
    {
     "name": "stderr",
     "output_type": "stream",
     "text": [
      "/Users/shreyavontela/anaconda3/lib/python3.7/site-packages/sklearn/neural_network/_multilayer_perceptron.py:571: ConvergenceWarning: Stochastic Optimizer: Maximum iterations (500) reached and the optimization hasn't converged yet.\n",
      "  % self.max_iter, ConvergenceWarning)\n"
     ]
    },
    {
     "data": {
      "text/plain": [
       "GridSearchCV(cv=TimeSeriesSplit(max_train_size=None, n_splits=3),\n",
       "             error_score=nan,\n",
       "             estimator=MLPRegressor(activation='relu', alpha=0.0001,\n",
       "                                    batch_size='auto', beta_1=0.9, beta_2=0.999,\n",
       "                                    early_stopping=False, epsilon=1e-08,\n",
       "                                    hidden_layer_sizes=(100,),\n",
       "                                    learning_rate='constant',\n",
       "                                    learning_rate_init=0.001, max_fun=15000,\n",
       "                                    max_iter=500, momentum=0.9,\n",
       "                                    n_iter_no_change=10,\n",
       "                                    nes...\n",
       "                                    solver='adam', tol=0.0001,\n",
       "                                    validation_fraction=0.1, verbose=False,\n",
       "                                    warm_start=False),\n",
       "             iid='deprecated', n_jobs=-1,\n",
       "             param_grid={'activation': ['tanh', 'relu'],\n",
       "                         'alpha': [0.0001, 0.05, 1],\n",
       "                         'hidden_layer_sizes': [(100, 50, 250), (100, 20, 10),\n",
       "                                                100],\n",
       "                         'learning_rate': ['constant', 'adaptive'],\n",
       "                         'solver': ['sgd', 'adam']},\n",
       "             pre_dispatch='2*n_jobs', refit=True, return_train_score=False,\n",
       "             scoring=None, verbose=0)"
      ]
     },
     "execution_count": 23,
     "metadata": {},
     "output_type": "execute_result"
    }
   ],
   "source": [
    "mlp_gs = MLPRegressor(max_iter=500)\n",
    "parameter_space = {\n",
    "    'hidden_layer_sizes': [(100, 50, 250),(100,20,10),(100)],\n",
    "    'activation': ['tanh', 'relu'],\n",
    "    'solver': ['sgd', 'adam'],\n",
    "    'alpha': [0.0001, 0.05,1],\n",
    "    'learning_rate': ['constant','adaptive'],\n",
    "}\n",
    "from sklearn.model_selection import GridSearchCV, TimeSeriesSplit\n",
    "tscv = TimeSeriesSplit(n_splits=3)\n",
    "\n",
    "clf = GridSearchCV(mlp_gs, parameter_space, n_jobs=-1, cv=tscv)\n",
    "clf.fit(X_train, y_train) # X is train samples and y is the corresponding label"
   ]
  },
  {
   "cell_type": "code",
   "execution_count": 24,
   "metadata": {},
   "outputs": [
    {
     "data": {
      "text/plain": [
       "GridSearchCV(cv=TimeSeriesSplit(max_train_size=None, n_splits=3),\n",
       "             error_score=nan,\n",
       "             estimator=MLPRegressor(activation='relu', alpha=0.0001,\n",
       "                                    batch_size='auto', beta_1=0.9, beta_2=0.999,\n",
       "                                    early_stopping=False, epsilon=1e-08,\n",
       "                                    hidden_layer_sizes=(100,),\n",
       "                                    learning_rate='constant',\n",
       "                                    learning_rate_init=0.001, max_fun=15000,\n",
       "                                    max_iter=500, momentum=0.9,\n",
       "                                    n_iter_no_change=10,\n",
       "                                    nes...\n",
       "                                    solver='adam', tol=0.0001,\n",
       "                                    validation_fraction=0.1, verbose=False,\n",
       "                                    warm_start=False),\n",
       "             iid='deprecated', n_jobs=-1,\n",
       "             param_grid={'activation': ['tanh', 'relu'],\n",
       "                         'alpha': [0.0001, 0.05, 1],\n",
       "                         'hidden_layer_sizes': [(100, 50, 250), (100, 20, 10),\n",
       "                                                100],\n",
       "                         'learning_rate': ['constant', 'adaptive'],\n",
       "                         'solver': ['sgd', 'adam']},\n",
       "             pre_dispatch='2*n_jobs', refit=True, return_train_score=False,\n",
       "             scoring=None, verbose=0)"
      ]
     },
     "execution_count": 24,
     "metadata": {},
     "output_type": "execute_result"
    }
   ],
   "source": [
    "clf.fit(X_train, y_train) # X is train samples and y is the corresponding label"
   ]
  },
  {
   "cell_type": "code",
   "execution_count": 25,
   "metadata": {},
   "outputs": [
    {
     "name": "stdout",
     "output_type": "stream",
     "text": [
      "Best parameters found:\n",
      " {'activation': 'tanh', 'alpha': 0.05, 'hidden_layer_sizes': (100, 20, 10), 'learning_rate': 'constant', 'solver': 'sgd'}\n"
     ]
    }
   ],
   "source": [
    "print('Best parameters found:\\n', clf.best_params_)"
   ]
  },
  {
   "cell_type": "code",
   "execution_count": 65,
   "metadata": {},
   "outputs": [],
   "source": [
    "# means = clf.cv_results_['mean_test_score']\n",
    "# stds = clf.cv_results_['std_test_score']\n",
    "# for mean, std, params in zip(means, stds, clf.cv_results_['params']):\n",
    "#     print(\"%0.3f (+/-%0.03f) for %r\" % (mean, std * 2, params))"
   ]
  },
  {
   "cell_type": "code",
   "execution_count": 50,
   "metadata": {},
   "outputs": [
    {
     "name": "stdout",
     "output_type": "stream",
     "text": [
      "Results on the test set:\n"
     ]
    },
    {
     "name": "stderr",
     "output_type": "stream",
     "text": [
      "/Users/shreyavontela/anaconda3/lib/python3.7/site-packages/sklearn/utils/deprecation.py:144: FutureWarning:\n",
      "\n",
      "The sklearn.metrics.regression module is  deprecated in version 0.22 and will be removed in version 0.24. The corresponding classes / functions should instead be imported from sklearn.metrics. Anything that cannot be imported from sklearn.metrics is now part of the private API.\n",
      "\n"
     ]
    },
    {
     "ename": "TypeError",
     "evalue": "'module' object is not callable",
     "output_type": "error",
     "traceback": [
      "\u001b[0;31m---------------------------------------------------------------------------\u001b[0m",
      "\u001b[0;31mTypeError\u001b[0m                                 Traceback (most recent call last)",
      "\u001b[0;32m<ipython-input-50-9e73ad355add>\u001b[0m in \u001b[0;36m<module>\u001b[0;34m\u001b[0m\n\u001b[1;32m      2\u001b[0m \u001b[0;32mfrom\u001b[0m \u001b[0msklearn\u001b[0m\u001b[0;34m.\u001b[0m\u001b[0mmetrics\u001b[0m \u001b[0;32mimport\u001b[0m \u001b[0mregression\u001b[0m\u001b[0;34m\u001b[0m\u001b[0;34m\u001b[0m\u001b[0m\n\u001b[1;32m      3\u001b[0m \u001b[0mprint\u001b[0m\u001b[0;34m(\u001b[0m\u001b[0;34m'Results on the test set:'\u001b[0m\u001b[0;34m)\u001b[0m\u001b[0;34m\u001b[0m\u001b[0;34m\u001b[0m\u001b[0m\n\u001b[0;32m----> 4\u001b[0;31m \u001b[0mprint\u001b[0m\u001b[0;34m(\u001b[0m\u001b[0mregression\u001b[0m\u001b[0;34m(\u001b[0m\u001b[0my_true\u001b[0m\u001b[0;34m,\u001b[0m \u001b[0my_pred\u001b[0m\u001b[0;34m)\u001b[0m\u001b[0;34m)\u001b[0m\u001b[0;34m\u001b[0m\u001b[0;34m\u001b[0m\u001b[0m\n\u001b[0m",
      "\u001b[0;31mTypeError\u001b[0m: 'module' object is not callable"
     ]
    }
   ],
   "source": [
    "y_true, y_pred = y_test , clf.predict(X_test)\n",
    "from sklearn.metrics import regression\n",
    "print('Results on the test set:')\n",
    "print(regression(y_true, y_pred))"
   ]
  },
  {
   "cell_type": "code",
   "execution_count": 51,
   "metadata": {},
   "outputs": [],
   "source": [
    "from sklearn.metrics import r2_score"
   ]
  },
  {
   "cell_type": "code",
   "execution_count": 52,
   "metadata": {},
   "outputs": [
    {
     "data": {
      "text/plain": [
       "0.6785662003148899"
      ]
     },
     "execution_count": 52,
     "metadata": {},
     "output_type": "execute_result"
    }
   ],
   "source": [
    "r2_score(y_true, y_pred)"
   ]
  },
  {
   "cell_type": "code",
   "execution_count": null,
   "metadata": {},
   "outputs": [],
   "source": []
  },
  {
   "cell_type": "code",
   "execution_count": 80,
   "metadata": {
    "scrolled": false
   },
   "outputs": [
    {
     "data": {
      "application/vnd.jupyter.widget-view+json": {
       "model_id": "5629a2db9f634572909ba537194f7fe0",
       "version_major": 2,
       "version_minor": 0
      },
      "text/plain": [
       "VBox(children=(Figure(axes=[Axis(label='Date', scale=DateScale()), Axis(label='Close Price', orientation='vert…"
      ]
     },
     "metadata": {},
     "output_type": "display_data"
    }
   ],
   "source": [
    "from bqplot import pyplot as plt\n",
    "title = \"Neural Networks model Price Prediction\"\n",
    "fig = create_bqplot(y_test, y_pred, title)"
   ]
  },
  {
   "cell_type": "code",
   "execution_count": 81,
   "metadata": {},
   "outputs": [],
   "source": [
    "fig.save_png(title + \".png\")"
   ]
  },
  {
   "cell_type": "code",
   "execution_count": 20,
   "metadata": {
    "scrolled": true
   },
   "outputs": [
    {
     "data": {
      "text/plain": [
       "<matplotlib.legend.Legend at 0x7f88e6968b50>"
      ]
     },
     "execution_count": 20,
     "metadata": {},
     "output_type": "execute_result"
    },
    {
     "data": {
      "image/png": "[encoded data removed]",
      "text/plain": [
       "<Figure size 432x288 with 1 Axes>"
      ]
     },
     "metadata": {
      "needs_background": "light"
     },
     "output_type": "display_data"
    }
   ],
   "source": [
    "#plt.plot(y_train)\n",
    "plt.plot(y_test.values* std_y + mean_y, label = \"y_test\")\n",
    "plt.plot(y_pred* std_y + mean_y, label = \"y_pred\")\n",
    "plt.legend()"
   ]
  },
  {
   "cell_type": "code",
   "execution_count": null,
   "metadata": {},
   "outputs": [],
   "source": []
  },
  {
   "cell_type": "code",
   "execution_count": 49,
   "metadata": {},
   "outputs": [],
   "source": []
  },
  {
   "cell_type": "markdown",
   "metadata": {},
   "source": [
    "## Long only Trading strategy - If signal is positive then buy at open and sell at close "
   ]
  },
  {
   "cell_type": "code",
   "execution_count": 85,
   "metadata": {},
   "outputs": [
    {
     "name": "stdout",
     "output_type": "stream",
     "text": [
      "Number of Trades: 26\n",
      "Time Frame: 34 days\n",
      "Profit: $450.55 | 9.01%\n"
     ]
    },
    {
     "name": "stderr",
     "output_type": "stream",
     "text": [
      "/Users/shreyavontela/anaconda3/lib/python3.7/site-packages/ipykernel_launcher.py:47: MatplotlibDeprecationWarning:\n",
      "\n",
      "Case-insensitive properties were deprecated in 3.3 and support will be removed two minor releases later\n",
      "\n",
      "/Users/shreyavontela/anaconda3/lib/python3.7/site-packages/ipykernel_launcher.py:48: MatplotlibDeprecationWarning:\n",
      "\n",
      "Case-insensitive properties were deprecated in 3.3 and support will be removed two minor releases later\n",
      "\n"
     ]
    },
    {
     "data": {
      "image/png": "[encoded data removed]",
      "text/plain": [
       "<Figure size 720x360 with 1 Axes>"
      ]
     },
     "metadata": {},
     "output_type": "display_data"
    },
    {
     "name": "stdout",
     "output_type": "stream",
     "text": [
      "Sharpe Ratio is : 1.9855042847844926\n"
     ]
    }
   ],
   "source": [
    "from matplotlib import pyplot as plt\n",
    "\n",
    "boyd = yf.download('BYD', \n",
    "                      start=start_date, \n",
    "                      end=end_date, \n",
    "                      progress=False)\n",
    "from pandas.plotting import register_matplotlib_converters\n",
    "register_matplotlib_converters()\n",
    "\n",
    "pred_dates = y_test.index\n",
    "open_price = boyd.loc[pred_dates[0]:][\"Open\"]\n",
    "y_predicted = y_pred* std_y + mean_y\n",
    "\n",
    "stock = pd.DataFrame(open_price, index = pred_dates)\n",
    "stock['Predicted_Close'] = y_predicted\n",
    "stock['Close'] = y_test * std_y + mean_y\n",
    "stock[\"Date\"] = stock.index\n",
    "stock.loc[stock.index[0],'Predicted_Close'] = stock.loc[stock.index[0],'Open'] - 1 \n",
    "\n",
    "stock['returns_pred']  = stock.Predicted_Close.pct_change()\n",
    "stock['signal'] = np.where(stock['returns_pred']>0 , 1, 0)\n",
    "stock['Best_signal'] = np.where(stock['Close']>stock['Open'] , 1, 0)\n",
    "\n",
    "profit , net = long_only_trading(stock,'signal' ,\"Neural Networks Trading Strategy\",5000, True, True  )\n",
    "#profit , net = long_only_trading(stock,'Best_signal' ,\"Best possible Trading Strategy\",5000, True, True )\n",
    "\n",
    "#Finding sharpe Ratio \n",
    "stock['returns_pred']  = stock.Predicted_Close.pct_change()\n",
    "stock['excess_daily_ret'] = stock['returns_pred'] - 0.05/252\n",
    "sharpe = np.sqrt(30) * stock['excess_daily_ret'].mean() / stock['excess_daily_ret'].std()\n",
    "print(\"Sharpe Ratio is : \"+ str(sharpe) )\n",
    "\n"
   ]
  },
  {
   "cell_type": "code",
   "execution_count": 84,
   "metadata": {},
   "outputs": [],
   "source": [
    "def long_only_trading(stock,signal,title,budget=15000, show_graph=True, show_return=True):\n",
    "    \n",
    "    state_check = lambda x, y: 1 if x > y else 0\n",
    "    stock = stock.reset_index()    \n",
    "    money = budget\n",
    "    prev_state = state_check(stock.loc[0].Predicted_Close, stock.loc[0].Open)\n",
    "    stock_amt = 0\n",
    "    net = []\n",
    "    \n",
    "    for i in range(1, len(stock)):\n",
    "\n",
    "        today = stock.iloc[i]\n",
    "        if today[signal] == 1 : \n",
    "            #Buy at open price\n",
    "            stock_amt = int(money / today.Open)\n",
    "            money = 0\n",
    "            net.append([today.Date, today.Open, 1, stock_amt * today.Close])\n",
    "            \n",
    "            \n",
    "            #Sell at close price\n",
    "            money = stock_amt * today.Close\n",
    "            stock_amt = 0\n",
    "            net.append([today.Date, today.Close, 0, money])\n",
    "    \n",
    "    profit = net[-1][3] - budget\n",
    "    \n",
    "    if show_return == True:\n",
    "        print('Number of Trades: {}'.format(len(net)))\n",
    "        print('Time Frame: {} days'.format((net[-1][0] - stock.loc[0].Date).days))\n",
    "        print('Profit: ${:.2f} | {}%'.format(profit, round(profit/budget*100, 2)))\n",
    "\n",
    "    if show_graph == True:\n",
    "        trading_history(stock.set_index('Date'), net,title )\n",
    "\n",
    "    return profit, net    \n",
    "    \n",
    "    \n",
    "    \n",
    "def trading_history(stock, net,title, std=2):    \n",
    "    \n",
    "    # Bollinger band plot with EMA and original historical data\n",
    "    plt.figure(figsize=(10,5))\n",
    "    plt.style.use('seaborn-whitegrid')\n",
    "    plt.plot(stock.index, stock.Close, color='#3388cf', label='Close Price')\n",
    "    plt.plot(stock.index, stock.Open, color='#ffa33f', label='Open Price')\n",
    "  \n",
    "    plt.title(title, fontSize=15)\n",
    "    plt.ylabel('Price', fontSize=12)\n",
    "    plt.xlim([stock.index[0], stock.index[-1]])\n",
    "    \n",
    "    for i in net:\n",
    "        if i[2] == 1: \n",
    "            color = 'green'\n",
    "            marker = '^'\n",
    "        else: \n",
    "            color = 'red'\n",
    "            marker = \"v\"\n",
    "        plt.plot_date(i[0], i[1], color=color, marker = marker )\n",
    "        \n",
    "    plt.plot_date([],[],label='Buy', c='green', marker = '^')\n",
    "    plt.plot_date([],[],label='Sell', c='red', marker = \"v\")\n",
    "        \n",
    "    plt.legend(frameon=True, loc=0, ncol=1, fontsize=10, borderpad=.6)\n",
    "    plt.savefig(title + \".png\")\n",
    "    plt.show()"
   ]
  },
  {
   "cell_type": "markdown",
   "metadata": {},
   "source": [
    "$$\n",
    "p_{i}=\\sum_{j}\\left(\\text { weight }_{i j} * \\operatorname{resp}_{i j} * \\text { action }_{i j}\\right)\n",
    "$$\n"
   ]
  },
  {
   "cell_type": "markdown",
   "metadata": {},
   "source": [
    "# Decision Tree "
   ]
  },
  {
   "cell_type": "code",
   "execution_count": 102,
   "metadata": {},
   "outputs": [
    {
     "name": "stdout",
     "output_type": "stream",
     "text": [
      "-404.250523036762 -2368.2977580679617\n",
      "Train data Mean Squared Error is 405.2505230367623\n",
      "Test data Mean Squared Error is 478.05333955976926\n",
      "Train data Mean Alsolute Error is 20.00669420436305\n",
      "Test data Mean Alsolute Error is 21.859816319093696\n"
     ]
    }
   ],
   "source": [
    "from sklearn.tree import DecisionTreeRegressor\n",
    "\n",
    "X_new = X\n",
    "y_new = y\n",
    "\n",
    "\n",
    "split = 0.96\n",
    "X_train = X_new[:int(len(X_new)*split)]\n",
    "X_test = X_new[int(len(X_new)*split):]\n",
    "y_train = y_new[:int(len(X_new)*split)]\n",
    "y_test = y_new[int(len(X_new)*split):]\n",
    "\n",
    "#Standardizing the data \n",
    "mean = np.mean(X_train)\n",
    "std = np.std(X_train)\n",
    "X_train = (X_train - mean)/std\n",
    "X_test = (X_test - mean)/std\n",
    "\n",
    "mean_y = np.mean(y_train)\n",
    "std_y = np.std(y_train)\n",
    "y_train = (y_train - mean_y)/std_y\n",
    "y_test = (y_test - mean_y)/std_y\n",
    "\n",
    "\n",
    "\n",
    "regr = DecisionTreeRegressor(max_depth=2, random_state=0)\n",
    "regr = regr.fit(X, y)\n",
    "\n",
    "y_pred_train = regr.predict(X_train)\n",
    "y_pred = regr.predict(X_test)\n",
    "\n",
    "print(regr.score(X_train, y_train), regr.score(X_test, y_test))\n",
    "MSE_error = mean_squared_error(y_train, y_pred_train)\n",
    "print('Train data Mean Squared Error is {}'.format(MSE_error))\n",
    "\n",
    "MSE_error = mean_squared_error(y_test, y_pred)\n",
    "print('Test data Mean Squared Error is {}'.format(MSE_error))\n",
    "\n",
    "MSE_error = mean_absolute_error(y_train, y_pred_train)\n",
    "print('Train data Mean Alsolute Error is {}'.format(MSE_error))\n",
    "\n",
    "MSE_error = mean_absolute_error(y_test, y_pred)\n",
    "print('Test data Mean Alsolute Error is {}'.format(MSE_error))\n"
   ]
  },
  {
   "cell_type": "code",
   "execution_count": null,
   "metadata": {},
   "outputs": [],
   "source": []
  },
  {
   "cell_type": "code",
   "execution_count": null,
   "metadata": {},
   "outputs": [],
   "source": []
  },
  {
   "cell_type": "code",
   "execution_count": null,
   "metadata": {},
   "outputs": [],
   "source": []
  },
  {
   "cell_type": "code",
   "execution_count": null,
   "metadata": {},
   "outputs": [],
   "source": []
  },
  {
   "cell_type": "code",
   "execution_count": null,
   "metadata": {},
   "outputs": [],
   "source": []
  },
  {
   "cell_type": "markdown",
   "metadata": {},
   "source": [
    "# Random Forest"
   ]
  },
  {
   "cell_type": "code",
   "execution_count": 100,
   "metadata": {},
   "outputs": [],
   "source": [
    "from sklearn.ensemble import RandomForestRegressor\n",
    "\n",
    "X_new = X\n",
    "y_new = y\n",
    "\n",
    "\n",
    "split = 0.96\n",
    "X_train = X_new[:int(len(X_new)*split)]\n",
    "X_test = X_new[int(len(X_new)*split):]\n",
    "y_train = y_new[:int(len(X_new)*split)]\n",
    "y_test = y_new[int(len(X_new)*split):]\n",
    "\n",
    "#Standardizing the data \n",
    "mean = np.mean(X_train)\n",
    "std = np.std(X_train)\n",
    "X_train = (X_train - mean)/std\n",
    "X_test = (X_test - mean)/std\n",
    "\n",
    "mean_y = np.mean(y_train)\n",
    "std_y = np.std(y_train)\n",
    "y_train = (y_train - mean_y)/std_y\n",
    "y_test = (y_test - mean_y)/std_y\n",
    "\n",
    "\n",
    "\n",
    "regr = RandomForestRegressor(max_depth=2, random_state=0)\n",
    "regr = regr.fit(X, y)"
   ]
  },
  {
   "cell_type": "code",
   "execution_count": 101,
   "metadata": {},
   "outputs": [
    {
     "name": "stdout",
     "output_type": "stream",
     "text": [
      "-376.3807168677418 -2225.9961545000124\n",
      "Train data Mean Squared Error is 377.3807168677421\n",
      "Test data Mean Squared Error is 449.34113714505816\n",
      "Train data Mean Alsolute Error is 19.336261788894994\n",
      "Test data Mean Alsolute Error is 21.184789429991024\n"
     ]
    }
   ],
   "source": [
    "y_pred_train = regr.predict(X_train)\n",
    "y_pred = regr.predict(X_test)\n",
    "\n",
    "print(regr.score(X_train, y_train), regr.score(X_test, y_test))\n",
    "MSE_error = mean_squared_error(y_train, y_pred_train)\n",
    "print('Train data Mean Squared Error is {}'.format(MSE_error))\n",
    "\n",
    "MSE_error = mean_squared_error(y_test, y_pred)\n",
    "print('Test data Mean Squared Error is {}'.format(MSE_error))\n",
    "\n",
    "MSE_error = mean_absolute_error(y_train, y_pred_train)\n",
    "print('Train data Mean Alsolute Error is {}'.format(MSE_error))\n",
    "\n",
    "MSE_error = mean_absolute_error(y_test, y_pred)\n",
    "print('Test data Mean Alsolute Error is {}'.format(MSE_error))\n"
   ]
  },
  {
   "cell_type": "code",
   "execution_count": null,
   "metadata": {},
   "outputs": [],
   "source": []
  },
  {
   "cell_type": "markdown",
   "metadata": {},
   "source": [
    "## Trading strategy - Additional Analysis. : IGNORE \n",
    "\n"
   ]
  },
  {
   "cell_type": "code",
   "execution_count": 35,
   "metadata": {},
   "outputs": [
    {
     "name": "stdout",
     "output_type": "stream",
     "text": [
      "0\n",
      "Number of Trades: 6\n",
      "Time Frame: 31 days\n",
      "Profit: $1890.40 | 37.81%\n"
     ]
    },
    {
     "name": "stderr",
     "output_type": "stream",
     "text": [
      "/Users/shreyavontela/anaconda3/lib/python3.7/site-packages/ipykernel_launcher.py:13: MatplotlibDeprecationWarning: Case-insensitive properties were deprecated in 3.3 and support will be removed two minor releases later\n",
      "  del sys.path[0]\n",
      "/Users/shreyavontela/anaconda3/lib/python3.7/site-packages/ipykernel_launcher.py:14: MatplotlibDeprecationWarning: Case-insensitive properties were deprecated in 3.3 and support will be removed two minor releases later\n",
      "  \n"
     ]
    },
    {
     "data": {
      "image/png": "[encoded data removed]",
      "text/plain": [
       "<Figure size 720x360 with 1 Axes>"
      ]
     },
     "metadata": {},
     "output_type": "display_data"
    },
    {
     "name": "stdout",
     "output_type": "stream",
     "text": [
      "Sharpe Ratio is : 2.0724360719439305\n"
     ]
    }
   ],
   "source": [
    "boyd = yf.download('BYD', \n",
    "                      start=start_date, \n",
    "                      end=end_date, \n",
    "                      progress=False)\n",
    "from pandas.plotting import register_matplotlib_converters\n",
    "register_matplotlib_converters()\n",
    "\n",
    "pred_dates = y_test.index\n",
    "open_price = boyd.loc[pred_dates[0]:][\"Open\"]\n",
    "y_predicted = y_pred* std_y + mean_y\n",
    "\n",
    "stock = pd.DataFrame(open_price, index = pred_dates)\n",
    "stock['Predicted_Close'] = y_predicted\n",
    "stock['Close'] = y_test * std_y + mean_y\n",
    "stock[\"Date\"] = stock.index\n",
    "stock.loc[stock.index[0],'Predicted_Close'] = stock.loc[stock.index[0],'Open'] - 1 \n",
    "\n",
    "\n",
    "profit , net = macd_trading(stock, 5000, True, True )\n",
    "\n",
    "#Finding sharpe Ratio \n",
    "stock['returns_pred']  = stock.Predicted_Close.pct_change()\n",
    "stock['excess_daily_ret'] = stock['returns_pred'] - 0.05/252\n",
    "sharpe = np.sqrt(30) * stock['excess_daily_ret'].mean() / stock['excess_daily_ret'].std()\n",
    "print(\"Sharpe Ratio is : \"+ str(sharpe) )"
   ]
  },
  {
   "cell_type": "code",
   "execution_count": null,
   "metadata": {},
   "outputs": [],
   "source": []
  },
  {
   "cell_type": "code",
   "execution_count": 23,
   "metadata": {},
   "outputs": [],
   "source": [
    "def macd_trading(stock, budget=15000, show_graph=True, show_return=True):\n",
    "    \n",
    "    state_check = lambda x, y: 1 if x > y else 0\n",
    "    stock = stock.reset_index()    \n",
    "    money = budget\n",
    "    prev_state = state_check(stock.loc[0].Predicted_Close, stock.loc[0].Open)\n",
    "    stock_amt = 0\n",
    "    net = []\n",
    "\n",
    "    print(prev_state)\n",
    "    for i in range(1, len(stock)):\n",
    "\n",
    "        today = stock.iloc[i]\n",
    "        state = state_check(today.Predicted_Close, today.Open)\n",
    "#         print(today)\n",
    "#         print(\"--------\")\n",
    "#         print(state)\n",
    "#         print(\"---------------------------------\")\n",
    "        if state != prev_state:\n",
    "\n",
    "            # BUY\n",
    "            if (today.Predicted_Close >= today.Open) and (money != 0):\n",
    "                stock_amt = int(money / today.Open)\n",
    "                money = 0\n",
    "                net.append([today.Date, today.Close, 1, stock_amt * today.Close])\n",
    "\n",
    "            # SELL\n",
    "            if (today.Predicted_Close < today.Open) and (stock_amt != 0):\n",
    "                money = stock_amt * today.Open\n",
    "                stock_amt = 0\n",
    "                net.append([today.Date, today.Close, 0, money])\n",
    "\n",
    "#             print(net)\n",
    "#             print(\"############################\")\n",
    "        prev_state = state\n",
    "    \n",
    "    profit = net[-1][3] - budget\n",
    "    \n",
    "    if show_return == True:\n",
    "        print('Number of Trades: {}'.format(len(net)))\n",
    "        print('Time Frame: {} days'.format((net[-1][0] - stock.loc[0].Date).days))\n",
    "        print('Profit: ${:.2f} | {}%'.format(profit, round(profit/budget*100, 2)))\n",
    "\n",
    "    if show_graph == True:\n",
    "        trading_history(stock.set_index('Date'), net)\n",
    "\n",
    "    return profit, net    \n",
    "    "
   ]
  },
  {
   "cell_type": "code",
   "execution_count": 24,
   "metadata": {},
   "outputs": [],
   "source": [
    "def trading_history(stock, net, std=2):    \n",
    "    \n",
    "    # Bollinger band plot with EMA and original historical data\n",
    "    plt.figure(figsize=(10,5))\n",
    "    plt.style.use('seaborn-whitegrid')\n",
    "    plt.plot(stock.index, stock.Close, color='#3388cf', label='Price')\n",
    "    plt.plot(stock.index, stock.Predicted_Close, color='#ad6eff' , label = \"Predicted Price\")\n",
    "#     plt.plot(stock.index, stock.MA21, color='#ad6eff', label='Moving Average (21 days)')\n",
    "#     plt.plot(stock.index, stock.Upper_band, color='#ffbd74', alpha=0.3)\n",
    "#     plt.plot(stock.index, stock.Lower_band, color='#ffa33f', alpha=0.3)\n",
    "#     plt.fill_between(stock.index, stock.Upper_band, stock.Lower_band, color='#ffa33f', alpha=0.1, label='Bollinger Band ({} STD)'.format(std))\n",
    "    \n",
    "    plt.title('Trading History', fontSize=15)\n",
    "    plt.ylabel('Price', fontSize=12)\n",
    "    plt.xlim([stock.index[0], stock.index[-1]])\n",
    "    \n",
    "    for i in net:\n",
    "        if i[2] == 1: \n",
    "            color = 'green'\n",
    "            marker = '^'\n",
    "        else: \n",
    "            color = 'red'\n",
    "            marker = \"v\"\n",
    "        plt.plot_date(i[0], i[1], color=color, marker = marker )\n",
    "        \n",
    "    plt.plot_date([],[],label='Buy', c='green', marker = '^')\n",
    "    plt.plot_date([],[],label='Sell', c='red', marker = \"v\")\n",
    "        \n",
    "    plt.legend(frameon=True, loc=0, ncol=1, fontsize=10, borderpad=.6)\n",
    "    plt.show()"
   ]
  },
  {
   "cell_type": "code",
   "execution_count": null,
   "metadata": {},
   "outputs": [],
   "source": []
  },
  {
   "cell_type": "code",
   "execution_count": null,
   "metadata": {},
   "outputs": [],
   "source": []
  },
  {
   "cell_type": "code",
   "execution_count": null,
   "metadata": {},
   "outputs": [],
   "source": []
  },
  {
   "cell_type": "markdown",
   "metadata": {},
   "source": [
    "## Trading strategy taking 10day moving average"
   ]
  },
  {
   "cell_type": "code",
   "execution_count": 231,
   "metadata": {
    "collapsed": true,
    "jupyter": {
     "outputs_hidden": true
    }
   },
   "outputs": [
    {
     "name": "stdout",
     "output_type": "stream",
     "text": [
      "0\n",
      "--------\n",
      "1\n",
      "---------------------------------\n",
      "False [[Timestamp('2020-07-13 00:00:00'), 18.190000534057617, 1, 4984.060146331787]]\n",
      "############################\n",
      "--------\n",
      "1\n",
      "---------------------------------\n",
      "--------\n",
      "1\n",
      "---------------------------------\n",
      "--------\n",
      "1\n",
      "---------------------------------\n",
      "--------\n",
      "1\n",
      "---------------------------------\n",
      "--------\n",
      "1\n",
      "---------------------------------\n",
      "--------\n",
      "1\n",
      "---------------------------------\n",
      "--------\n",
      "1\n",
      "---------------------------------\n",
      "--------\n",
      "1\n",
      "---------------------------------\n",
      "--------\n",
      "1\n",
      "---------------------------------\n",
      "--------\n",
      "1\n",
      "---------------------------------\n",
      "--------\n",
      "1\n",
      "---------------------------------\n",
      "--------\n",
      "1\n",
      "---------------------------------\n",
      "--------\n",
      "1\n",
      "---------------------------------\n",
      "--------\n",
      "1\n",
      "---------------------------------\n",
      "--------\n",
      "1\n",
      "---------------------------------\n",
      "--------\n",
      "1\n",
      "---------------------------------\n",
      "--------\n",
      "1\n",
      "---------------------------------\n",
      "--------\n",
      "1\n",
      "---------------------------------\n",
      "--------\n",
      "1\n",
      "---------------------------------\n",
      "--------\n",
      "1\n",
      "---------------------------------\n",
      "--------\n",
      "1\n",
      "---------------------------------\n",
      "--------\n",
      "1\n",
      "---------------------------------\n",
      "--------\n",
      "1\n",
      "---------------------------------\n",
      "--------\n",
      "0\n",
      "---------------------------------\n",
      "False [[Timestamp('2020-07-13 00:00:00'), 18.190000534057617, 1, 4984.060146331787], [Timestamp('2020-08-14 00:00:00'), 27.020000457763672, 0, 7403.480125427246]]\n",
      "############################\n",
      "Number of Trades: 2\n",
      "Time Frame: 35 days\n",
      "Profit: $2403.48 | 48.07%\n"
     ]
    },
    {
     "name": "stderr",
     "output_type": "stream",
     "text": [
      "/Users/shreyavontela/anaconda3/lib/python3.7/site-packages/ipykernel_launcher.py:13: MatplotlibDeprecationWarning: Case-insensitive properties were deprecated in 3.3 and support will be removed two minor releases later\n",
      "  del sys.path[0]\n",
      "/Users/shreyavontela/anaconda3/lib/python3.7/site-packages/ipykernel_launcher.py:14: MatplotlibDeprecationWarning: Case-insensitive properties were deprecated in 3.3 and support will be removed two minor releases later\n",
      "  \n"
     ]
    },
    {
     "data": {
      "image/png": "[encoded data removed]",
      "text/plain": [
       "<Figure size 720x360 with 1 Axes>"
      ]
     },
     "metadata": {},
     "output_type": "display_data"
    }
   ],
   "source": [
    "boyd = yf.download('BYD', \n",
    "                      start=start_date, \n",
    "                      end=end_date, \n",
    "                      progress=False)\n",
    "\n",
    "boyd[\"MA\"] = 0 \n",
    "for i in range(10,len(boyd)):\n",
    "    boyd.loc[boyd.index[i] , \"MA\"] = boyd.loc[boyd.index[i-10]:boyd.index[i]][\"Close\"].mean()\n",
    "    \n",
    "open_price = boyd.loc[pred_dates[0]:][\"Open\"]\n",
    "MA = boyd.loc[pred_dates[0]:][\"MA\"]\n",
    "pred_dates = y_test.index\n",
    "y_predicted = y_pred* std_y + mean_y\n",
    "\n",
    "stock = pd.DataFrame(open_price, index = pred_dates)\n",
    "stock['Predicted_Close'] = y_predicted\n",
    "stock['Close'] = y_test * std_y + mean_y\n",
    "stock[\"Date\"] = stock.index\n",
    "stock[\"MA\"] = MA\n",
    "\n",
    "stock.loc[stock.index[0],'Predicted_Close'] = stock.loc[stock.index[0],'MA'] - 1 \n",
    "\n",
    "\n",
    "profit , net = macd_trading(stock, 5000, True, True )"
   ]
  },
  {
   "cell_type": "code",
   "execution_count": 230,
   "metadata": {},
   "outputs": [],
   "source": [
    "def macd_trading(stock, budget=15000, show_graph=True, show_return=True):\n",
    "    \n",
    "    state_check = lambda x, y: 1 if x > y else 0\n",
    "    stock = stock.reset_index()    \n",
    "    money = budget\n",
    "    prev_state = state_check(stock.loc[0].Predicted_Close, stock.loc[0].MA)\n",
    "    stock_amt = 0\n",
    "    net = []\n",
    "\n",
    "    print(prev_state)\n",
    "    for i in range(1, len(stock)):\n",
    "\n",
    "        today = stock.iloc[i]\n",
    "        state = state_check(today.Predicted_Close, today.MA)\n",
    "        \n",
    "        print(\"--------\")\n",
    "        print(state)\n",
    "        print(\"---------------------------------\")\n",
    "        if state != prev_state:\n",
    "\n",
    "            # BUY\n",
    "            if (today.Predicted_Close >= today.MA) and (money != 0):\n",
    "                stock_amt = int(money / today.Close)\n",
    "                money = 0\n",
    "                net.append([today.Date, today.Close, 1, stock_amt * today.Close])\n",
    "\n",
    "            # SELL\n",
    "            if (today.Predicted_Close < today.MA) and (stock_amt != 0):\n",
    "                money = stock_amt * today.Close\n",
    "                stock_amt = 0\n",
    "                net.append([today.Date, today.Close, 0, money])\n",
    "\n",
    "            print((today.Predicted_Close < today.MA) and (stock_amt != 0), net)\n",
    "            print(\"############################\")\n",
    "        prev_state = state\n",
    "    \n",
    "    profit = net[-1][3] - budget\n",
    "    \n",
    "    if show_return == True:\n",
    "        print('Number of Trades: {}'.format(len(net)))\n",
    "        print('Time Frame: {} days'.format((net[-1][0] - stock.loc[0].Date).days))\n",
    "        print('Profit: ${:.2f} | {}%'.format(profit, round(profit/budget*100, 2)))\n",
    "\n",
    "    if show_graph == True:\n",
    "        trading_history(stock.set_index('Date'), net)\n",
    "\n",
    "    return profit, net    \n",
    "    "
   ]
  },
  {
   "cell_type": "code",
   "execution_count": null,
   "metadata": {},
   "outputs": [],
   "source": []
  },
  {
   "cell_type": "code",
   "execution_count": null,
   "metadata": {},
   "outputs": [],
   "source": []
  },
  {
   "cell_type": "markdown",
   "metadata": {},
   "source": [
    "# Trading for the benchmark "
   ]
  },
  {
   "cell_type": "code",
   "execution_count": 251,
   "metadata": {},
   "outputs": [],
   "source": [
    "etf = yf.download('BJK', \n",
    "                      start=start_date, \n",
    "                      end=end_date, \n",
    "                      progress=False)"
   ]
  },
  {
   "cell_type": "code",
   "execution_count": 248,
   "metadata": {},
   "outputs": [
    {
     "data": {
      "text/plain": [
       "5662.0526010369595"
      ]
     },
     "execution_count": 248,
     "metadata": {},
     "output_type": "execute_result"
    }
   ],
   "source": [
    "5000/etf.loc[pred_dates[0]:][\"Close\"][0] * etf.loc[pred_dates[0]:][\"Close\"][-1]"
   ]
  },
  {
   "cell_type": "code",
   "execution_count": 249,
   "metadata": {},
   "outputs": [
    {
     "data": {
      "text/plain": [
       "0.13240000000000007"
      ]
     },
     "execution_count": 249,
     "metadata": {},
     "output_type": "execute_result"
    }
   ],
   "source": [
    "5662/5000-1"
   ]
  },
  {
   "cell_type": "code",
   "execution_count": 260,
   "metadata": {},
   "outputs": [],
   "source": [
    "etf[\"MA\"] = 0 \n",
    "for i in range(10,len(etf)):\n",
    "    etf.loc[etf.index[i] , \"MA\"] = etf.loc[etf.index[i-10]:etf.index[i]][\"Close\"].mean()\n",
    "    \n",
    "\n",
    "MA = etf.loc[pred_dates[0]:][\"MA\"]\n",
    "pred_dates = y_test.index\n",
    "\n",
    "stock = pd.DataFrame(MA, index = pred_dates)\n",
    "stock['Close'] = etf[\"Close\"]\n",
    "stock['Predicted_Close'] = etf[\"Close\"]\n",
    "stock[\"Date\"] = stock.index\n",
    "\n",
    "stock.loc[stock.index[0],'Close'] = stock.loc[stock.index[0],'MA'] - 1 \n"
   ]
  },
  {
   "cell_type": "code",
   "execution_count": 263,
   "metadata": {},
   "outputs": [
    {
     "name": "stdout",
     "output_type": "stream",
     "text": [
      "0\n",
      "False [[Timestamp('2020-07-13 00:00:00'), 34.33000183105469, 1, 4977.85026550293]]\n",
      "############################\n",
      "False [[Timestamp('2020-07-13 00:00:00'), 34.33000183105469, 1, 4977.85026550293], [Timestamp('2020-07-23 00:00:00'), 34.09000015258789, 0, 4943.050022125244]]\n",
      "############################\n",
      "False [[Timestamp('2020-07-13 00:00:00'), 34.33000183105469, 1, 4977.85026550293], [Timestamp('2020-07-23 00:00:00'), 34.09000015258789, 0, 4943.050022125244], [Timestamp('2020-07-30 00:00:00'), 34.68000030517578, 1, 4924.560043334961]]\n",
      "############################\n",
      "False [[Timestamp('2020-07-13 00:00:00'), 34.33000183105469, 1, 4977.85026550293], [Timestamp('2020-07-23 00:00:00'), 34.09000015258789, 0, 4943.050022125244], [Timestamp('2020-07-30 00:00:00'), 34.68000030517578, 1, 4924.560043334961], [Timestamp('2020-07-31 00:00:00'), 33.849998474121094, 0, 4806.699783325195]]\n",
      "############################\n",
      "False [[Timestamp('2020-07-13 00:00:00'), 34.33000183105469, 1, 4977.85026550293], [Timestamp('2020-07-23 00:00:00'), 34.09000015258789, 0, 4943.050022125244], [Timestamp('2020-07-30 00:00:00'), 34.68000030517578, 1, 4924.560043334961], [Timestamp('2020-07-31 00:00:00'), 33.849998474121094, 0, 4806.699783325195], [Timestamp('2020-08-03 00:00:00'), 34.400001525878906, 1, 4781.600212097168]]\n",
      "############################\n",
      "Number of Trades: 5\n",
      "Time Frame: 24 days\n",
      "Profit: $-218.40 | -4.37%\n"
     ]
    },
    {
     "name": "stderr",
     "output_type": "stream",
     "text": [
      "/Users/shreyavontela/anaconda3/lib/python3.7/site-packages/ipykernel_launcher.py:13: MatplotlibDeprecationWarning: Case-insensitive properties were deprecated in 3.3 and support will be removed two minor releases later\n",
      "  del sys.path[0]\n",
      "/Users/shreyavontela/anaconda3/lib/python3.7/site-packages/ipykernel_launcher.py:14: MatplotlibDeprecationWarning: Case-insensitive properties were deprecated in 3.3 and support will be removed two minor releases later\n",
      "  \n"
     ]
    },
    {
     "data": {
      "image/png": "[encoded data removed]",
      "text/plain": [
       "<Figure size 720x360 with 1 Axes>"
      ]
     },
     "metadata": {},
     "output_type": "display_data"
    }
   ],
   "source": [
    "profit , net = macd_trading(stock, 5000, True, True )"
   ]
  },
  {
   "cell_type": "code",
   "execution_count": 262,
   "metadata": {},
   "outputs": [],
   "source": [
    "def macd_trading(stock, budget=15000, show_graph=True, show_return=True):\n",
    "    \n",
    "    state_check = lambda x, y: 1 if x > y else 0\n",
    "    stock = stock.reset_index()    \n",
    "    money = budget\n",
    "    prev_state = state_check(stock.loc[0].Predicted_Close, stock.loc[0].MA)\n",
    "    stock_amt = 0\n",
    "    net = []\n",
    "\n",
    "    print(prev_state)\n",
    "    for i in range(1, len(stock)):\n",
    "\n",
    "        today = stock.iloc[i]\n",
    "        state = state_check(today.Predicted_Close, today.MA)\n",
    "        \n",
    "#         print(\"--------\")\n",
    "#         print(state)\n",
    "#         print(\"---------------------------------\")\n",
    "        if state != prev_state:\n",
    "\n",
    "            # BUY\n",
    "            if (today.Predicted_Close >= today.MA) and (money != 0):\n",
    "                stock_amt = int(money / today.Close)\n",
    "                money = 0\n",
    "                net.append([today.Date, today.Close, 1, stock_amt * today.Close])\n",
    "\n",
    "            # SELL\n",
    "            if (today.Predicted_Close < today.MA) and (stock_amt != 0):\n",
    "                money = stock_amt * today.Close\n",
    "                stock_amt = 0\n",
    "                net.append([today.Date, today.Close, 0, money])\n",
    "\n",
    "            print((today.Predicted_Close < today.MA) and (stock_amt != 0), net)\n",
    "            print(\"############################\")\n",
    "        prev_state = state\n",
    "    \n",
    "    profit = net[-1][3] - budget\n",
    "    \n",
    "    if show_return == True:\n",
    "        print('Number of Trades: {}'.format(len(net)))\n",
    "        print('Time Frame: {} days'.format((net[-1][0] - stock.loc[0].Date).days))\n",
    "        print('Profit: ${:.2f} | {}%'.format(profit, round(profit/budget*100, 2)))\n",
    "\n",
    "    if show_graph == True:\n",
    "        trading_history(stock.set_index('Date'), net)\n",
    "\n",
    "    return profit, net    \n",
    "    "
   ]
  },
  {
   "cell_type": "code",
   "execution_count": null,
   "metadata": {},
   "outputs": [],
   "source": []
  }
 ],
 "metadata": {
  "kernelspec": {
   "display_name": "Python 3",
   "language": "python",
   "name": "python3"
  },
  "language_info": {
   "codemirror_mode": {
    "name": "ipython",
    "version": 3
   },
   "file_extension": ".py",
   "mimetype": "text/x-python",
   "name": "python",
   "nbconvert_exporter": "python",
   "pygments_lexer": "ipython3",
   "version": "3.7.6"
  }
 },
 "nbformat": 4,
 "nbformat_minor": 4
}
