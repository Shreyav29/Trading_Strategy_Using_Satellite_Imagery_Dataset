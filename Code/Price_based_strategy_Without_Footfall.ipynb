{
 "cells": [
  {
   "cell_type": "code",
   "execution_count": 1,
   "metadata": {},
   "outputs": [],
   "source": [
    "import pandas as pd\n",
    "import numpy as np \n",
    "import yfinance as yf\n",
    "import matplotlib.pyplot as plt\n",
    "import datetime \n",
    "\n",
    "\n",
    "\n",
    "from bqplot import pyplot as plt\n",
    "\n",
    "def create_bqplot(y_test, y_pred , title):\n",
    "    \n",
    "    fig = plt.figure(title=title)\n",
    "\n",
    "    options = {'x':{'label':\"Date\"}, 'y':{'label':'Close Price'}}\n",
    "\n",
    "    scat = plt.plot(y_test.index, y_test.values* std_y + mean_y,\n",
    "                       colors=[\"blue\"],\n",
    "                       axes_options = options,\n",
    "                       stroke=\"black\", stroke_width=2.0,\n",
    "                       default_size=150,\n",
    "                       default_opacities=[0.7],\n",
    "                       marker=\"square\", labels=['Actual Price'], legend_location= {\"bottom\"},display_legend=True \n",
    "                       )\n",
    "\n",
    "    scat = plt.plot(y_test.index, y_pred* std_y + mean_y,\n",
    "                       colors=[\"green\"],\n",
    "                       axes_options = options,\n",
    "                       stroke=\"black\", stroke_width=2.0,\n",
    "                       default_size=150,\n",
    "                       default_opacities=[0.7],\n",
    "                       marker=\"circle\", labels=['Predicted Price'],legend_location= {\"bottom\"}, display_legend=True\n",
    "                       )\n",
    "\n",
    "    fig.legend_style = {\n",
    "        'fill': ''  ,\n",
    "        'stroke' : '0' ,\n",
    "        'stroke-width':3,\n",
    "        'opacity':0.7   , \n",
    "        'stroke-width': 0\n",
    "                      }\n",
    "    plt.xlabel(\"Date\")\n",
    "    plt.ylabel(\"Close Price\")\n",
    "    plt.legend()\n",
    "    \n",
    "    plt.show()\n",
    "    return fig \n",
    "    \n",
    "\n",
    "def create_X_data(lag, Dates):\n",
    "    rows_list = []\n",
    "    \n",
    "    for i in range(len(Dates)):\n",
    "        x_date = Dates[i]-  datetime.timedelta(days=lag)\n",
    "        new_df = boyd.loc[x_date : x_date+ datetime.timedelta(days=lag-1)] \n",
    "\n",
    "        c_window = new_df[casino_features][0 :lag]\n",
    "        t_window = new_df[tech_features][0 :lag].dropna()\n",
    "\n",
    "        ans = []\n",
    "        for col in casino_features:\n",
    "            ans.append(np.array(c_window[col]).squeeze())\n",
    "\n",
    "        c_ans = np.concatenate(ans)\n",
    "\n",
    "        ans = []\n",
    "        for col in tech_features:\n",
    "            ans.append(np.array(t_window[col]).squeeze())\n",
    "\n",
    "        t_ans = np.concatenate(ans)\n",
    "        \n",
    "        vector = np.concatenate((c_ans, t_ans), axis=None)\n",
    "        vector = vector.astype('float')\n",
    "        \n",
    "        assert not np.isnan(np.sum(vector))\n",
    "        \n",
    "        rows_list.append(list(vector))\n",
    "        \n",
    "        \n",
    "    X_df = pd.DataFrame(rows_list, index = Dates)\n",
    "    \n",
    "    return X_df, rows_list\n",
    "\n"
   ]
  },
  {
   "cell_type": "markdown",
   "metadata": {},
   "source": [
    "# Reading stock and footfall data\n"
   ]
  },
  {
   "cell_type": "code",
   "execution_count": 2,
   "metadata": {},
   "outputs": [
    {
     "name": "stderr",
     "output_type": "stream",
     "text": [
      "/Users/shreyavontela/anaconda3/lib/python3.7/site-packages/ta/trend.py:768: RuntimeWarning: invalid value encountered in double_scalars\n",
      "  dip[i] = 100 * (self._dip[i] / self._trs[i])\n",
      "/Users/shreyavontela/anaconda3/lib/python3.7/site-packages/ta/trend.py:772: RuntimeWarning: invalid value encountered in double_scalars\n",
      "  din[i] = 100 * (self._din[i] / self._trs[i])\n"
     ]
    },
    {
     "data": {
      "text/html": [
       "<div>\n",
       "<style scoped>\n",
       "    .dataframe tbody tr th:only-of-type {\n",
       "        vertical-align: middle;\n",
       "    }\n",
       "\n",
       "    .dataframe tbody tr th {\n",
       "        vertical-align: top;\n",
       "    }\n",
       "\n",
       "    .dataframe thead th {\n",
       "        text-align: right;\n",
       "    }\n",
       "</style>\n",
       "<table border=\"1\" class=\"dataframe\">\n",
       "  <thead>\n",
       "    <tr style=\"text-align: right;\">\n",
       "      <th></th>\n",
       "      <th>trend_macd</th>\n",
       "      <th>momentum_rsi</th>\n",
       "      <th>Volume</th>\n",
       "      <th>Adj Close</th>\n",
       "      <th>total_foot</th>\n",
       "    </tr>\n",
       "  </thead>\n",
       "  <tbody>\n",
       "    <tr>\n",
       "      <th>2018-03-05</th>\n",
       "      <td>0.000000</td>\n",
       "      <td>100.000000</td>\n",
       "      <td>1003700.0</td>\n",
       "      <td>34.671322</td>\n",
       "      <td>3619</td>\n",
       "    </tr>\n",
       "    <tr>\n",
       "      <th>2018-03-06</th>\n",
       "      <td>0.028718</td>\n",
       "      <td>100.000000</td>\n",
       "      <td>1166400.0</td>\n",
       "      <td>35.025013</td>\n",
       "      <td>4385</td>\n",
       "    </tr>\n",
       "    <tr>\n",
       "      <th>2018-03-07</th>\n",
       "      <td>0.062856</td>\n",
       "      <td>100.000000</td>\n",
       "      <td>1097800.0</td>\n",
       "      <td>35.172375</td>\n",
       "      <td>4354</td>\n",
       "    </tr>\n",
       "    <tr>\n",
       "      <th>2018-03-08</th>\n",
       "      <td>0.081707</td>\n",
       "      <td>83.323807</td>\n",
       "      <td>749100.0</td>\n",
       "      <td>35.083961</td>\n",
       "      <td>4749</td>\n",
       "    </tr>\n",
       "    <tr>\n",
       "      <th>2018-03-09</th>\n",
       "      <td>0.070816</td>\n",
       "      <td>51.479538</td>\n",
       "      <td>1789200.0</td>\n",
       "      <td>34.779392</td>\n",
       "      <td>5778</td>\n",
       "    </tr>\n",
       "    <tr>\n",
       "      <th>2018-03-10</th>\n",
       "      <td>NaN</td>\n",
       "      <td>NaN</td>\n",
       "      <td>NaN</td>\n",
       "      <td>NaN</td>\n",
       "      <td>5602</td>\n",
       "    </tr>\n",
       "    <tr>\n",
       "      <th>2018-03-11</th>\n",
       "      <td>NaN</td>\n",
       "      <td>NaN</td>\n",
       "      <td>NaN</td>\n",
       "      <td>NaN</td>\n",
       "      <td>5070</td>\n",
       "    </tr>\n",
       "    <tr>\n",
       "      <th>2018-03-12</th>\n",
       "      <td>-0.018297</td>\n",
       "      <td>22.116384</td>\n",
       "      <td>2354100.0</td>\n",
       "      <td>33.796925</td>\n",
       "      <td>4283</td>\n",
       "    </tr>\n",
       "    <tr>\n",
       "      <th>2018-03-13</th>\n",
       "      <td>-0.170868</td>\n",
       "      <td>13.495214</td>\n",
       "      <td>2500100.0</td>\n",
       "      <td>32.775154</td>\n",
       "      <td>4286</td>\n",
       "    </tr>\n",
       "    <tr>\n",
       "      <th>2018-03-14</th>\n",
       "      <td>-0.248571</td>\n",
       "      <td>28.022092</td>\n",
       "      <td>1757100.0</td>\n",
       "      <td>33.266396</td>\n",
       "      <td>4563</td>\n",
       "    </tr>\n",
       "  </tbody>\n",
       "</table>\n",
       "</div>"
      ],
      "text/plain": [
       "            trend_macd  momentum_rsi     Volume  Adj Close  total_foot\n",
       "2018-03-05    0.000000    100.000000  1003700.0  34.671322        3619\n",
       "2018-03-06    0.028718    100.000000  1166400.0  35.025013        4385\n",
       "2018-03-07    0.062856    100.000000  1097800.0  35.172375        4354\n",
       "2018-03-08    0.081707     83.323807   749100.0  35.083961        4749\n",
       "2018-03-09    0.070816     51.479538  1789200.0  34.779392        5778\n",
       "2018-03-10         NaN           NaN        NaN        NaN        5602\n",
       "2018-03-11         NaN           NaN        NaN        NaN        5070\n",
       "2018-03-12   -0.018297     22.116384  2354100.0  33.796925        4283\n",
       "2018-03-13   -0.170868     13.495214  2500100.0  32.775154        4286\n",
       "2018-03-14   -0.248571     28.022092  1757100.0  33.266396        4563"
      ]
     },
     "execution_count": 2,
     "metadata": {},
     "output_type": "execute_result"
    }
   ],
   "source": [
    "#Get the data of the stock\n",
    "start_date = '2018-03-05'\n",
    "end_date = '2020-08-16'\n",
    "\n",
    "boyd = yf.download('BYD', \n",
    "                      start=start_date, \n",
    "                      end=end_date, \n",
    "                      progress=False)\n",
    "\n",
    "from ta import add_all_ta_features\n",
    "\n",
    "a = add_all_ta_features(boyd, open=\"Open\", high=\"High\", low=\"Low\", close=\"Close\", volume=\"Volume\", fillna=True)\n",
    "boyd = boyd[[\"trend_macd\", 'momentum_rsi',\"Volume\" , \"Adj Close\"]]\n",
    "\n",
    "footfall = pd.read_csv(\"casino.csv\", names = ['Date', 'Casino1','Casino2','Casino3','Casino4','Casino5','Casino6','Casino7','Casino8','Casino9']) \n",
    "footfall = footfall.iloc[5:]\n",
    "\n",
    "Date = footfall[\"Date\"]\n",
    "footfall = footfall.drop([\"Date\"], axis=1)\n",
    "footfall.index = pd.date_range('20180305', '20200816')\n",
    "footfall = footfall.astype('int')\n",
    "footfall[\"total_foot\"] = footfall.sum(axis = 1)\n",
    "footfall = footfall.drop(['Casino1','Casino2','Casino3','Casino4','Casino5','Casino6','Casino7','Casino8','Casino9'], axis=1)\n",
    "\n",
    "boyd = boyd.merge(footfall, left_index=True, right_index=True, how='right')\n",
    "\n",
    "casino_features = [\"total_foot\"]\n",
    "tech_features = [\"trend_macd\", 'momentum_rsi',\"Volume\"]\n",
    "\n",
    "boyd.head(10)"
   ]
  },
  {
   "cell_type": "markdown",
   "metadata": {},
   "source": [
    "# Doing holidays adjustment\n"
   ]
  },
  {
   "cell_type": "code",
   "execution_count": 3,
   "metadata": {},
   "outputs": [],
   "source": [
    "\n",
    "y = boyd[\"Adj Close\"][7:]\n",
    "Dates = boyd.index[7:]\n",
    "n_weeks = 0 \n",
    "for i in range(0,len(Dates),7):\n",
    "    week = 7 \n",
    "    x_date = Dates[i] -  datetime.timedelta(days=week)\n",
    "    new_df = boyd.loc[x_date : x_date + datetime.timedelta(days=week-3)]\n",
    "    new_df = new_df.fillna(method='ffill')\n",
    "    new_df = new_df.fillna(method='bfill')\n",
    "    if sum(new_df.isna().sum()) != 0:\n",
    "        print(\"Nan value not getting filled\")\n",
    "        print(i)\n",
    "    boyd.update(new_df)\n",
    "    n_weeks = n_weeks + 1 "
   ]
  },
  {
   "cell_type": "code",
   "execution_count": 4,
   "metadata": {},
   "outputs": [
    {
     "data": {
      "text/plain": [
       "(896, 5)"
      ]
     },
     "execution_count": 4,
     "metadata": {},
     "output_type": "execute_result"
    }
   ],
   "source": [
    "boyd.shape"
   ]
  },
  {
   "cell_type": "markdown",
   "metadata": {},
   "source": [
    "# Creating the input feature vectors "
   ]
  },
  {
   "cell_type": "code",
   "execution_count": null,
   "metadata": {},
   "outputs": [],
   "source": []
  },
  {
   "cell_type": "code",
   "execution_count": 5,
   "metadata": {},
   "outputs": [],
   "source": [
    "Dates = boyd.index[7:]\n",
    "lag = 7\n",
    "X_df , rows_list =create_X_data(lag,Dates)\n",
    "# assert not np.sum(X_df.isna().sum())\n",
    "# assert (n_weeks*2 == y.isna().sum())"
   ]
  },
  {
   "cell_type": "code",
   "execution_count": 6,
   "metadata": {},
   "outputs": [
    {
     "data": {
      "text/html": [
       "<div>\n",
       "<style scoped>\n",
       "    .dataframe tbody tr th:only-of-type {\n",
       "        vertical-align: middle;\n",
       "    }\n",
       "\n",
       "    .dataframe tbody tr th {\n",
       "        vertical-align: top;\n",
       "    }\n",
       "\n",
       "    .dataframe thead th {\n",
       "        text-align: right;\n",
       "    }\n",
       "</style>\n",
       "<table border=\"1\" class=\"dataframe\">\n",
       "  <thead>\n",
       "    <tr style=\"text-align: right;\">\n",
       "      <th></th>\n",
       "      <th>0</th>\n",
       "      <th>1</th>\n",
       "      <th>2</th>\n",
       "      <th>3</th>\n",
       "      <th>4</th>\n",
       "      <th>5</th>\n",
       "      <th>6</th>\n",
       "      <th>7</th>\n",
       "      <th>8</th>\n",
       "      <th>9</th>\n",
       "      <th>...</th>\n",
       "      <th>12</th>\n",
       "      <th>13</th>\n",
       "      <th>14</th>\n",
       "      <th>15</th>\n",
       "      <th>16</th>\n",
       "      <th>17</th>\n",
       "      <th>18</th>\n",
       "      <th>19</th>\n",
       "      <th>20</th>\n",
       "      <th>21</th>\n",
       "    </tr>\n",
       "  </thead>\n",
       "  <tbody>\n",
       "    <tr>\n",
       "      <th>2018-03-12</th>\n",
       "      <td>3619.0</td>\n",
       "      <td>4385.0</td>\n",
       "      <td>4354.0</td>\n",
       "      <td>4749.0</td>\n",
       "      <td>5778.0</td>\n",
       "      <td>5602.0</td>\n",
       "      <td>5070.0</td>\n",
       "      <td>0.000000</td>\n",
       "      <td>0.028718</td>\n",
       "      <td>0.062856</td>\n",
       "      <td>...</td>\n",
       "      <td>100.000000</td>\n",
       "      <td>100.000000</td>\n",
       "      <td>100.000000</td>\n",
       "      <td>83.323807</td>\n",
       "      <td>51.479538</td>\n",
       "      <td>1003700.0</td>\n",
       "      <td>1166400.0</td>\n",
       "      <td>1097800.0</td>\n",
       "      <td>749100.0</td>\n",
       "      <td>1789200.0</td>\n",
       "    </tr>\n",
       "    <tr>\n",
       "      <th>2018-03-13</th>\n",
       "      <td>4385.0</td>\n",
       "      <td>4354.0</td>\n",
       "      <td>4749.0</td>\n",
       "      <td>5778.0</td>\n",
       "      <td>5602.0</td>\n",
       "      <td>5070.0</td>\n",
       "      <td>4283.0</td>\n",
       "      <td>0.028718</td>\n",
       "      <td>0.062856</td>\n",
       "      <td>0.081707</td>\n",
       "      <td>...</td>\n",
       "      <td>100.000000</td>\n",
       "      <td>100.000000</td>\n",
       "      <td>83.323807</td>\n",
       "      <td>51.479538</td>\n",
       "      <td>22.116384</td>\n",
       "      <td>1166400.0</td>\n",
       "      <td>1097800.0</td>\n",
       "      <td>749100.0</td>\n",
       "      <td>1789200.0</td>\n",
       "      <td>2354100.0</td>\n",
       "    </tr>\n",
       "    <tr>\n",
       "      <th>2018-03-14</th>\n",
       "      <td>4354.0</td>\n",
       "      <td>4749.0</td>\n",
       "      <td>5778.0</td>\n",
       "      <td>5602.0</td>\n",
       "      <td>5070.0</td>\n",
       "      <td>4283.0</td>\n",
       "      <td>4286.0</td>\n",
       "      <td>0.062856</td>\n",
       "      <td>0.081707</td>\n",
       "      <td>0.070816</td>\n",
       "      <td>...</td>\n",
       "      <td>100.000000</td>\n",
       "      <td>83.323807</td>\n",
       "      <td>51.479538</td>\n",
       "      <td>22.116384</td>\n",
       "      <td>13.495214</td>\n",
       "      <td>1097800.0</td>\n",
       "      <td>749100.0</td>\n",
       "      <td>1789200.0</td>\n",
       "      <td>2354100.0</td>\n",
       "      <td>2500100.0</td>\n",
       "    </tr>\n",
       "    <tr>\n",
       "      <th>2018-03-15</th>\n",
       "      <td>4749.0</td>\n",
       "      <td>5778.0</td>\n",
       "      <td>5602.0</td>\n",
       "      <td>5070.0</td>\n",
       "      <td>4283.0</td>\n",
       "      <td>4286.0</td>\n",
       "      <td>4563.0</td>\n",
       "      <td>0.081707</td>\n",
       "      <td>0.070816</td>\n",
       "      <td>-0.018297</td>\n",
       "      <td>...</td>\n",
       "      <td>83.323807</td>\n",
       "      <td>51.479538</td>\n",
       "      <td>22.116384</td>\n",
       "      <td>13.495214</td>\n",
       "      <td>28.022092</td>\n",
       "      <td>749100.0</td>\n",
       "      <td>1789200.0</td>\n",
       "      <td>2354100.0</td>\n",
       "      <td>2500100.0</td>\n",
       "      <td>1757100.0</td>\n",
       "    </tr>\n",
       "    <tr>\n",
       "      <th>2018-03-16</th>\n",
       "      <td>5778.0</td>\n",
       "      <td>5602.0</td>\n",
       "      <td>5070.0</td>\n",
       "      <td>4283.0</td>\n",
       "      <td>4286.0</td>\n",
       "      <td>4563.0</td>\n",
       "      <td>5271.0</td>\n",
       "      <td>0.070816</td>\n",
       "      <td>-0.018297</td>\n",
       "      <td>-0.170868</td>\n",
       "      <td>...</td>\n",
       "      <td>51.479538</td>\n",
       "      <td>22.116384</td>\n",
       "      <td>13.495214</td>\n",
       "      <td>28.022092</td>\n",
       "      <td>22.042528</td>\n",
       "      <td>1789200.0</td>\n",
       "      <td>2354100.0</td>\n",
       "      <td>2500100.0</td>\n",
       "      <td>1757100.0</td>\n",
       "      <td>1278000.0</td>\n",
       "    </tr>\n",
       "  </tbody>\n",
       "</table>\n",
       "<p>5 rows × 22 columns</p>\n",
       "</div>"
      ],
      "text/plain": [
       "                0       1       2       3       4       5       6         7   \\\n",
       "2018-03-12  3619.0  4385.0  4354.0  4749.0  5778.0  5602.0  5070.0  0.000000   \n",
       "2018-03-13  4385.0  4354.0  4749.0  5778.0  5602.0  5070.0  4283.0  0.028718   \n",
       "2018-03-14  4354.0  4749.0  5778.0  5602.0  5070.0  4283.0  4286.0  0.062856   \n",
       "2018-03-15  4749.0  5778.0  5602.0  5070.0  4283.0  4286.0  4563.0  0.081707   \n",
       "2018-03-16  5778.0  5602.0  5070.0  4283.0  4286.0  4563.0  5271.0  0.070816   \n",
       "\n",
       "                  8         9   ...          12          13          14  \\\n",
       "2018-03-12  0.028718  0.062856  ...  100.000000  100.000000  100.000000   \n",
       "2018-03-13  0.062856  0.081707  ...  100.000000  100.000000   83.323807   \n",
       "2018-03-14  0.081707  0.070816  ...  100.000000   83.323807   51.479538   \n",
       "2018-03-15  0.070816 -0.018297  ...   83.323807   51.479538   22.116384   \n",
       "2018-03-16 -0.018297 -0.170868  ...   51.479538   22.116384   13.495214   \n",
       "\n",
       "                   15         16         17         18         19         20  \\\n",
       "2018-03-12  83.323807  51.479538  1003700.0  1166400.0  1097800.0   749100.0   \n",
       "2018-03-13  51.479538  22.116384  1166400.0  1097800.0   749100.0  1789200.0   \n",
       "2018-03-14  22.116384  13.495214  1097800.0   749100.0  1789200.0  2354100.0   \n",
       "2018-03-15  13.495214  28.022092   749100.0  1789200.0  2354100.0  2500100.0   \n",
       "2018-03-16  28.022092  22.042528  1789200.0  2354100.0  2500100.0  1757100.0   \n",
       "\n",
       "                   21  \n",
       "2018-03-12  1789200.0  \n",
       "2018-03-13  2354100.0  \n",
       "2018-03-14  2500100.0  \n",
       "2018-03-15  1757100.0  \n",
       "2018-03-16  1278000.0  \n",
       "\n",
       "[5 rows x 22 columns]"
      ]
     },
     "execution_count": 6,
     "metadata": {},
     "output_type": "execute_result"
    }
   ],
   "source": [
    "X_df.head()"
   ]
  },
  {
   "cell_type": "code",
   "execution_count": 7,
   "metadata": {},
   "outputs": [],
   "source": [
    "merged_df =X_df.merge(y, left_index=True, right_index=True, how='inner')\n",
    "\n",
    "merged_df = merged_df.dropna()\n",
    "\n",
    "\n",
    "X = merged_df[X_df.columns.values]\n",
    "y = merged_df['Adj Close']"
   ]
  },
  {
   "cell_type": "markdown",
   "metadata": {},
   "source": [
    "# Run a linear regression model to predict the stock price \n"
   ]
  },
  {
   "cell_type": "code",
   "execution_count": 11,
   "metadata": {},
   "outputs": [],
   "source": [
    "from sklearn.model_selection import train_test_split\n",
    "from sklearn.linear_model import LinearRegression, Lasso\n",
    "from sklearn.metrics import mean_squared_error"
   ]
  },
  {
   "cell_type": "code",
   "execution_count": 12,
   "metadata": {},
   "outputs": [
    {
     "data": {
      "text/plain": [
       "(0.3533001721843828, -0.4406218734463845)"
      ]
     },
     "execution_count": 12,
     "metadata": {},
     "output_type": "execute_result"
    }
   ],
   "source": [
    "X_new = X.iloc[:,7:] \n",
    "y_new = y \n",
    "\n",
    "split = 0.95\n",
    "X_train = X_new[:int(len(X_new)*split)]\n",
    "X_test = X_new[int(len(X_new)*split):]\n",
    "y_train = y_new[:int(len(X_new)*split)]\n",
    "y_test = y_new[int(len(X_new)*split):]\n",
    "\n",
    "\n",
    "#Standardizing the data \n",
    "mean = np.mean(X_train)\n",
    "std = np.std(X_train)\n",
    "X_train = (X_train - mean)/std\n",
    "X_test = (X_test - mean)/std\n",
    "\n",
    "mean_y = np.mean(y_train)\n",
    "std_y = np.std(y_train)\n",
    "y_train = (y_train - mean_y)/std_y\n",
    "y_test = (y_test - mean_y)/std_y\n",
    "\n",
    "\n",
    "model = LinearRegression()\n",
    "model.fit(X_train, y_train)\n",
    "y_pred = model.predict(X_test)\n",
    "\n",
    "mean_squared_error(y_test, y_pred), model.score(X_test,y_test)\n"
   ]
  },
  {
   "cell_type": "code",
   "execution_count": 13,
   "metadata": {
    "scrolled": true
   },
   "outputs": [
    {
     "data": {
      "application/vnd.jupyter.widget-view+json": {
       "model_id": "249aed13f82f41df8348cecbe43c66e0",
       "version_major": 2,
       "version_minor": 0
      },
      "text/plain": [
       "VBox(children=(Figure(axes=[Axis(label='Date', scale=DateScale()), Axis(label='Close Price', orientation='vert…"
      ]
     },
     "metadata": {},
     "output_type": "display_data"
    }
   ],
   "source": [
    "from bqplot import pyplot as plt\n",
    "title = \"Linear Regression Price Prediction without Footfall \"\n",
    "fig = create_bqplot(y_test, y_pred, title)"
   ]
  },
  {
   "cell_type": "code",
   "execution_count": 14,
   "metadata": {},
   "outputs": [],
   "source": [
    "fig.save_png(title + \".png\")"
   ]
  },
  {
   "cell_type": "code",
   "execution_count": 16,
   "metadata": {},
   "outputs": [],
   "source": [
    "# from yellowbrick.regressor import PredictionError, ResidualsPlot\n",
    "# viz = ResidualsPlot(model)\n",
    "# viz.fit(X_train,y_train)\n",
    "# viz.score(X_test,y_test)"
   ]
  },
  {
   "cell_type": "code",
   "execution_count": 17,
   "metadata": {},
   "outputs": [
    {
     "name": "stdout",
     "output_type": "stream",
     "text": [
      "Number of Trades: 34\n",
      "Time Frame: 43 days\n",
      "Profit: $376.98 | 7.54%\n"
     ]
    },
    {
     "name": "stderr",
     "output_type": "stream",
     "text": [
      "/Users/shreyavontela/anaconda3/lib/python3.7/site-packages/ipykernel_launcher.py:47: MatplotlibDeprecationWarning: Case-insensitive properties were deprecated in 3.3 and support will be removed two minor releases later\n",
      "/Users/shreyavontela/anaconda3/lib/python3.7/site-packages/ipykernel_launcher.py:48: MatplotlibDeprecationWarning: Case-insensitive properties were deprecated in 3.3 and support will be removed two minor releases later\n"
     ]
    },
    {
     "data": {
      "image/png": "[encoded data removed]",
      "text/plain": [
       "<Figure size 720x360 with 1 Axes>"
      ]
     },
     "metadata": {
      "needs_background": "light"
     },
     "output_type": "display_data"
    },
    {
     "name": "stdout",
     "output_type": "stream",
     "text": [
      "Sharpe Ratio is : 1.116929852699588\n"
     ]
    }
   ],
   "source": [
    "from matplotlib import pyplot as plt\n",
    "#Trading Strategy \n",
    "\n",
    "boyd = yf.download('BYD', \n",
    "                      start=start_date, \n",
    "                      end=end_date, \n",
    "                      progress=False)\n",
    "from pandas.plotting import register_matplotlib_converters\n",
    "register_matplotlib_converters()\n",
    "\n",
    "pred_dates = y_test.index\n",
    "open_price = boyd.loc[pred_dates[0]:][\"Open\"]\n",
    "y_predicted = y_pred* std_y + mean_y\n",
    "\n",
    "stock = pd.DataFrame(open_price, index = pred_dates)\n",
    "stock['Predicted_Close'] = y_predicted\n",
    "stock['Close'] = y_test * std_y + mean_y\n",
    "stock[\"Date\"] = stock.index\n",
    "stock.loc[stock.index[0],'Predicted_Close'] = stock.loc[stock.index[0],'Open'] - 1 \n",
    "\n",
    "stock['returns_pred']  = stock.Predicted_Close.pct_change()\n",
    "stock['signal'] = np.where(stock['returns_pred']>0 , 1, 0)\n",
    "stock['Best_signal'] = np.where(stock['Close']>stock['Open'] , 1, 0)\n",
    "stock = stock.interpolate()\n",
    "profit , net = long_only_trading(stock,'signal' ,\"Linear Regression Trading Strategy without Footfall\",5000, True, True  )\n",
    "\n",
    "#Finding sharpe Ratio \n",
    "stock['returns_pred']  = stock.Predicted_Close.pct_change()\n",
    "stock['excess_daily_ret'] = stock['returns_pred'] - 0.05/252\n",
    "sharpe = np.sqrt(30) * stock['excess_daily_ret'].mean() / stock['excess_daily_ret'].std()\n",
    "print(\"Sharpe Ratio is : \"+ str(sharpe) )\n",
    "\n"
   ]
  },
  {
   "cell_type": "markdown",
   "metadata": {},
   "source": [
    "# Lasso Regression model "
   ]
  },
  {
   "cell_type": "code",
   "execution_count": 18,
   "metadata": {},
   "outputs": [
    {
     "name": "stderr",
     "output_type": "stream",
     "text": [
      "/Users/shreyavontela/anaconda3/lib/python3.7/site-packages/sklearn/linear_model/_coordinate_descent.py:476: ConvergenceWarning: Objective did not converge. You might want to increase the number of iterations. Duality gap: 100.52238016204436, tolerance: 0.06029999999999997\n",
      "  positive)\n"
     ]
    }
   ],
   "source": [
    "thr = [i for i in np.arange(0.0001,1 , 0.05)]\n",
    "for k in thr: \n",
    "    model = Lasso(k)\n",
    "    model.fit(X_train, y_train)\n",
    "    y_pred = model.predict(X_test)\n",
    "\n",
    "    mean_squared_error(y_test, y_pred), model.score(X_test,y_test)"
   ]
  },
  {
   "cell_type": "code",
   "execution_count": 20,
   "metadata": {},
   "outputs": [
    {
     "data": {
      "text/plain": [
       "(0.33883665830365417, -0.38164524081514184)"
      ]
     },
     "execution_count": 20,
     "metadata": {},
     "output_type": "execute_result"
    }
   ],
   "source": [
    "model = Lasso(0.0028)\n",
    "model.fit(X_train, y_train)\n",
    "y_pred = model.predict(X_test)\n",
    "\n",
    "mean_squared_error(y_test, y_pred), model.score(X_test,y_test)"
   ]
  },
  {
   "cell_type": "code",
   "execution_count": 21,
   "metadata": {},
   "outputs": [
    {
     "data": {
      "application/vnd.jupyter.widget-view+json": {
       "model_id": "3ade0c95af904933ab1b74d6041a2f1e",
       "version_major": 2,
       "version_minor": 0
      },
      "text/plain": [
       "VBox(children=(Figure(axes=[Axis(label='Date', scale=DateScale()), Axis(label='Close Price', orientation='vert…"
      ]
     },
     "metadata": {},
     "output_type": "display_data"
    }
   ],
   "source": [
    "from bqplot import pyplot as plt\n",
    "title = \"Lasso Model Price Prediction with alpha = 0.01 without Footfall\"\n",
    "fig = create_bqplot(y_test, y_pred, title)"
   ]
  },
  {
   "cell_type": "code",
   "execution_count": 22,
   "metadata": {},
   "outputs": [],
   "source": [
    "fig.save_png(title + \".png\")"
   ]
  },
  {
   "cell_type": "code",
   "execution_count": 23,
   "metadata": {},
   "outputs": [
    {
     "name": "stdout",
     "output_type": "stream",
     "text": [
      "Number of Trades: 32\n",
      "Time Frame: 43 days\n",
      "Profit: $376.98 | 7.54%\n"
     ]
    },
    {
     "name": "stderr",
     "output_type": "stream",
     "text": [
      "/Users/shreyavontela/anaconda3/lib/python3.7/site-packages/ipykernel_launcher.py:47: MatplotlibDeprecationWarning: Case-insensitive properties were deprecated in 3.3 and support will be removed two minor releases later\n",
      "/Users/shreyavontela/anaconda3/lib/python3.7/site-packages/ipykernel_launcher.py:48: MatplotlibDeprecationWarning: Case-insensitive properties were deprecated in 3.3 and support will be removed two minor releases later\n"
     ]
    },
    {
     "data": {
      "image/png": "[encoded data removed]",
      "text/plain": [
       "<Figure size 720x360 with 1 Axes>"
      ]
     },
     "metadata": {},
     "output_type": "display_data"
    },
    {
     "name": "stdout",
     "output_type": "stream",
     "text": [
      "Sharpe Ratio is : 1.1501139526604949\n"
     ]
    }
   ],
   "source": [
    "from matplotlib import pyplot as plt\n",
    "#Trading Strategy \n",
    "boyd = yf.download('BYD', \n",
    "                      start=start_date, \n",
    "                      end=end_date, \n",
    "                      progress=False)\n",
    "from pandas.plotting import register_matplotlib_converters\n",
    "register_matplotlib_converters()\n",
    "\n",
    "pred_dates = y_test.index\n",
    "open_price = boyd.loc[pred_dates[0]:][\"Open\"]\n",
    "y_predicted = y_pred* std_y + mean_y\n",
    "\n",
    "stock = pd.DataFrame(open_price, index = pred_dates)\n",
    "stock['Predicted_Close'] = y_predicted\n",
    "stock['Close'] = y_test * std_y + mean_y\n",
    "stock[\"Date\"] = stock.index\n",
    "stock.loc[stock.index[0],'Predicted_Close'] = stock.loc[stock.index[0],'Open'] - 1 \n",
    "\n",
    "stock['returns_pred']  = stock.Predicted_Close.pct_change()\n",
    "stock['signal'] = np.where(stock['returns_pred']>0 , 1, 0)\n",
    "stock['Best_signal'] = np.where(stock['Close']>stock['Open'] , 1, 0)\n",
    "stock = stock.interpolate()\n",
    "profit , net = long_only_trading(stock,'signal' ,\"Lasso Regression Trading Strategy Without Footfall\",5000, True, True  )\n",
    "\n",
    "#Finding sharpe Ratio \n",
    "stock['returns_pred']  = stock.Predicted_Close.pct_change()\n",
    "stock['excess_daily_ret'] = stock['returns_pred'] - 0.05/252\n",
    "sharpe = np.sqrt(30) * stock['excess_daily_ret'].mean() / stock['excess_daily_ret'].std()\n",
    "print(\"Sharpe Ratio is : \"+ str(sharpe) )\n",
    "\n"
   ]
  },
  {
   "cell_type": "markdown",
   "metadata": {},
   "source": [
    "## NeuralNetworks"
   ]
  },
  {
   "cell_type": "code",
   "execution_count": 31,
   "metadata": {},
   "outputs": [
    {
     "name": "stdout",
     "output_type": "stream",
     "text": [
      "0.5538398946656897 -0.2501177932013696\n",
      "Train data Mean Squared Error is 0.4461601053343106\n",
      "Test data Mean Squared Error is 0.25223633620889174\n"
     ]
    }
   ],
   "source": [
    "X_new = X.iloc[:,7:]\n",
    "y_new = y\n",
    "\n",
    "\n",
    "split = 0.96\n",
    "X_train = X_new[:int(len(X_new)*split)]\n",
    "X_test = X_new[int(len(X_new)*split):]\n",
    "y_train = y_new[:int(len(X_new)*split)]\n",
    "y_test = y_new[int(len(X_new)*split):]\n",
    "\n",
    "#Standardizing the data \n",
    "mean = np.mean(X_train)\n",
    "std = np.std(X_train)\n",
    "X_train = (X_train - mean)/std\n",
    "X_test = (X_test - mean)/std\n",
    "\n",
    "mean_y = np.mean(y_train)\n",
    "std_y = np.std(y_train)\n",
    "y_train = (y_train - mean_y)/std_y\n",
    "y_test = (y_test - mean_y)/std_y\n",
    "\n",
    "from sklearn.neural_network import MLPRegressor\n",
    "\n",
    "from sklearn.model_selection import train_test_split\n",
    "\n",
    "regr = MLPRegressor(random_state=1, max_iter=500, alpha=1).fit(X_train, y_train)\n",
    "y_pred_train = regr.predict(X_train)\n",
    "y_pred = regr.predict(X_test)\n",
    "\n",
    "print(regr.score(X_train, y_train), regr.score(X_test, y_test))\n",
    "MSE_error = mean_squared_error(y_train, y_pred_train)\n",
    "print('Train data Mean Squared Error is {}'.format(MSE_error))\n",
    "\n",
    "MSE_error = mean_squared_error(y_test, y_pred)\n",
    "print('Test data Mean Squared Error is {}'.format(MSE_error))\n"
   ]
  },
  {
   "cell_type": "code",
   "execution_count": 32,
   "metadata": {
    "scrolled": false
   },
   "outputs": [
    {
     "data": {
      "application/vnd.jupyter.widget-view+json": {
       "model_id": "828351c9320b4c90a236530f13779989",
       "version_major": 2,
       "version_minor": 0
      },
      "text/plain": [
       "VBox(children=(Figure(axes=[Axis(label='Date', scale=DateScale()), Axis(label='Close Price', orientation='vert…"
      ]
     },
     "metadata": {},
     "output_type": "display_data"
    }
   ],
   "source": [
    "from bqplot import pyplot as plt\n",
    "title = \"Neural Networks model Price Prediction without Footfall\"\n",
    "fig = create_bqplot(y_test, y_pred, title)"
   ]
  },
  {
   "cell_type": "code",
   "execution_count": 33,
   "metadata": {},
   "outputs": [],
   "source": [
    "fig.save_png(title + \".png\")"
   ]
  },
  {
   "cell_type": "code",
   "execution_count": 20,
   "metadata": {
    "scrolled": true
   },
   "outputs": [
    {
     "data": {
      "text/plain": [
       "<matplotlib.legend.Legend at 0x7f88e6968b50>"
      ]
     },
     "execution_count": 20,
     "metadata": {},
     "output_type": "execute_result"
    },
    {
     "data": {
      "image/png": "[encoded data removed]",
      "text/plain": [
       "<Figure size 432x288 with 1 Axes>"
      ]
     },
     "metadata": {
      "needs_background": "light"
     },
     "output_type": "display_data"
    }
   ],
   "source": [
    "#plt.plot(y_train)\n",
    "plt.plot(y_test.values* std_y + mean_y, label = \"y_test\")\n",
    "plt.plot(y_pred* std_y + mean_y, label = \"y_pred\")\n",
    "plt.legend()"
   ]
  },
  {
   "cell_type": "code",
   "execution_count": null,
   "metadata": {},
   "outputs": [],
   "source": []
  },
  {
   "cell_type": "code",
   "execution_count": 49,
   "metadata": {},
   "outputs": [],
   "source": []
  },
  {
   "cell_type": "markdown",
   "metadata": {},
   "source": [
    "## Long only Trading strategy - If signal is positive then buy at open and sell at close "
   ]
  },
  {
   "cell_type": "code",
   "execution_count": 34,
   "metadata": {},
   "outputs": [
    {
     "name": "stdout",
     "output_type": "stream",
     "text": [
      "Number of Trades: 26\n",
      "Time Frame: 35 days\n",
      "Profit: $944.40 | 18.89%\n"
     ]
    },
    {
     "name": "stderr",
     "output_type": "stream",
     "text": [
      "/Users/shreyavontela/anaconda3/lib/python3.7/site-packages/ipykernel_launcher.py:47: MatplotlibDeprecationWarning: Case-insensitive properties were deprecated in 3.3 and support will be removed two minor releases later\n",
      "/Users/shreyavontela/anaconda3/lib/python3.7/site-packages/ipykernel_launcher.py:48: MatplotlibDeprecationWarning: Case-insensitive properties were deprecated in 3.3 and support will be removed two minor releases later\n"
     ]
    },
    {
     "data": {
      "image/png": "[encoded data removed]",
      "text/plain": [
       "<Figure size 720x360 with 1 Axes>"
      ]
     },
     "metadata": {},
     "output_type": "display_data"
    },
    {
     "name": "stdout",
     "output_type": "stream",
     "text": [
      "Sharpe Ratio is : 1.2926413481642134\n"
     ]
    }
   ],
   "source": [
    "from matplotlib import pyplot as plt\n",
    "\n",
    "boyd = yf.download('BYD', \n",
    "                      start=start_date, \n",
    "                      end=end_date, \n",
    "                      progress=False)\n",
    "from pandas.plotting import register_matplotlib_converters\n",
    "register_matplotlib_converters()\n",
    "\n",
    "pred_dates = y_test.index\n",
    "open_price = boyd.loc[pred_dates[0]:][\"Open\"]\n",
    "y_predicted = y_pred* std_y + mean_y\n",
    "\n",
    "stock = pd.DataFrame(open_price, index = pred_dates)\n",
    "stock['Predicted_Close'] = y_predicted\n",
    "stock['Close'] = y_test * std_y + mean_y\n",
    "stock[\"Date\"] = stock.index\n",
    "stock.loc[stock.index[0],'Predicted_Close'] = stock.loc[stock.index[0],'Open'] - 1 \n",
    "\n",
    "stock['returns_pred']  = stock.Predicted_Close.pct_change()\n",
    "stock['signal'] = np.where(stock['returns_pred']>0 , 1, 0)\n",
    "stock['Best_signal'] = np.where(stock['Close']>stock['Open'] , 1, 0)\n",
    "\n",
    "profit , net = long_only_trading(stock,'signal' ,\"Neural Networks Trading Strategy without footfall\",5000, True, True  )\n",
    "#profit , net = long_only_trading(stock,'Best_signal' ,\"Best possible Trading Strategy\",5000, True, True )\n",
    "\n",
    "#Finding sharpe Ratio \n",
    "stock['returns_pred']  = stock.Predicted_Close.pct_change()\n",
    "stock['excess_daily_ret'] = stock['returns_pred'] - 0.05/252\n",
    "sharpe = np.sqrt(30) * stock['excess_daily_ret'].mean() / stock['excess_daily_ret'].std()\n",
    "print(\"Sharpe Ratio is : \"+ str(sharpe) )\n",
    "\n"
   ]
  },
  {
   "cell_type": "code",
   "execution_count": 16,
   "metadata": {},
   "outputs": [],
   "source": [
    "def long_only_trading(stock,signal,title,budget=15000, show_graph=True, show_return=True):\n",
    "    \n",
    "    state_check = lambda x, y: 1 if x > y else 0\n",
    "    stock = stock.reset_index()    \n",
    "    money = budget\n",
    "    prev_state = state_check(stock.loc[0].Predicted_Close, stock.loc[0].Open)\n",
    "    stock_amt = 0\n",
    "    net = []\n",
    "    \n",
    "    for i in range(1, len(stock)):\n",
    "\n",
    "        today = stock.iloc[i]\n",
    "        if today[signal] == 1 : \n",
    "            #Buy at open price\n",
    "            stock_amt = int(money / today.Open)\n",
    "            money = 0\n",
    "            net.append([today.Date, today.Open, 1, stock_amt * today.Close])\n",
    "            \n",
    "            \n",
    "            #Sell at close price\n",
    "            money = stock_amt * today.Close\n",
    "            stock_amt = 0\n",
    "            net.append([today.Date, today.Close, 0, money])\n",
    "    \n",
    "    profit = net[-1][3] - budget\n",
    "    \n",
    "    if show_return == True:\n",
    "        print('Number of Trades: {}'.format(len(net)))\n",
    "        print('Time Frame: {} days'.format((net[-1][0] - stock.loc[0].Date).days))\n",
    "        print('Profit: ${:.2f} | {}%'.format(profit, round(profit/budget*100, 2)))\n",
    "\n",
    "    if show_graph == True:\n",
    "        trading_history(stock.set_index('Date'), net,title )\n",
    "\n",
    "    return profit, net    \n",
    "    \n",
    "    \n",
    "    \n",
    "def trading_history(stock, net,title, std=2):    \n",
    "    \n",
    "    # Bollinger band plot with EMA and original historical data\n",
    "    plt.figure(figsize=(10,5))\n",
    "    plt.style.use('seaborn-whitegrid')\n",
    "    plt.plot(stock.index, stock.Close, color='#3388cf', label='Close Price')\n",
    "    plt.plot(stock.index, stock.Open, color='#ffa33f', label='Open Price')\n",
    "  \n",
    "    plt.title(title, fontSize=15)\n",
    "    plt.ylabel('Price', fontSize=12)\n",
    "    plt.xlim([stock.index[0], stock.index[-1]])\n",
    "    \n",
    "    for i in net:\n",
    "        if i[2] == 1: \n",
    "            color = 'green'\n",
    "            marker = '^'\n",
    "        else: \n",
    "            color = 'red'\n",
    "            marker = \"v\"\n",
    "        plt.plot_date(i[0], i[1], color=color, marker = marker )\n",
    "        \n",
    "    plt.plot_date([],[],label='Buy', c='green', marker = '^')\n",
    "    plt.plot_date([],[],label='Sell', c='red', marker = \"v\")\n",
    "        \n",
    "    plt.legend(frameon=True, loc=0, ncol=1, fontsize=10, borderpad=.6)\n",
    "    plt.savefig(\"Plots/\"+title + \".png\")\n",
    "    plt.show()"
   ]
  },
  {
   "cell_type": "code",
   "execution_count": null,
   "metadata": {},
   "outputs": [],
   "source": []
  }
 ],
 "metadata": {
  "kernelspec": {
   "display_name": "Python 3",
   "language": "python",
   "name": "python3"
  },
  "language_info": {
   "codemirror_mode": {
    "name": "ipython",
    "version": 3
   },
   "file_extension": ".py",
   "mimetype": "text/x-python",
   "name": "python",
   "nbconvert_exporter": "python",
   "pygments_lexer": "ipython3",
   "version": "3.7.6"
  }
 },
 "nbformat": 4,
 "nbformat_minor": 4
}
